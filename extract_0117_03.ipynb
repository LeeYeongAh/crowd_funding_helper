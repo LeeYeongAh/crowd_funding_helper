{
 "cells": [
  {
   "cell_type": "code",
   "execution_count": 3,
   "metadata": {},
   "outputs": [
    {
     "name": "stdout",
     "output_type": "stream",
     "text": [
      "<<< 캘린더 >>> size=200 \n",
      " [('포스터', 0.8419008255004883), ('달력', 0.8390640020370483), ('탁상', 0.8237816095352173), ('야생화', 0.8197080492973328), ('또찌', 0.819340705871582), ('월요일', 0.8175022602081299), ('브릭', 0.8145931959152222), ('피클', 0.8083648681640625), ('이루다', 0.807340145111084), ('심야', 0.8044752478599548)]\n",
      "<<< 캘린더 >>> size=500\n",
      " [('달력', 0.8719823360443115), ('또찌', 0.8528390526771545), ('포스터', 0.8430684804916382), ('탁상', 0.8358893394470215), ('이루다', 0.8358662128448486), ('야생화', 0.8265168070793152), ('색연필', 0.8212896585464478), ('월요일', 0.8210002779960632), ('피클', 0.8178763389587402), ('색종이', 0.817267894744873)]\n",
      "\n",
      "\n",
      "<<< 달력 >>> size=200 \n",
      " [('탁상', 0.867859959602356), ('캘린더', 0.8390640020370483), ('엽서', 0.8320927619934082), ('테리어', 0.8252606391906738), ('심야', 0.8173074722290039), ('팝업', 0.8128528594970703), ('민화', 0.8113651871681213), ('색연필', 0.8066495656967163), ('동물', 0.7842985391616821), ('맨션', 0.7840254306793213)]\n",
      "<<< 달력 >>> size=500\n",
      " [('캘린더', 0.8719823360443115), ('탁상', 0.8611174821853638), ('엽서', 0.8503288626670837), ('도리', 0.8198716640472412), ('팝업', 0.8184713125228882), ('사진', 0.8171049356460571), ('심야', 0.8133218288421631), ('뱃지', 0.8079417943954468), ('색연필', 0.8030266761779785), ('글귀', 0.7973995208740234)]\n"
     ]
    },
    {
     "name": "stderr",
     "output_type": "stream",
     "text": [
      "C:\\Users\\vivid\\Anaconda3\\envs\\test3\\lib\\site-packages\\ipykernel_launcher.py:18: DeprecationWarning: Call to deprecated `most_similar` (Method will be removed in 4.0.0, use self.wv.most_similar() instead).\n",
      "C:\\Users\\vivid\\Anaconda3\\envs\\test3\\lib\\site-packages\\ipykernel_launcher.py:20: DeprecationWarning: Call to deprecated `most_similar` (Method will be removed in 4.0.0, use self.wv.most_similar() instead).\n",
      "C:\\Users\\vivid\\Anaconda3\\envs\\test3\\lib\\site-packages\\ipykernel_launcher.py:23: DeprecationWarning: Call to deprecated `most_similar` (Method will be removed in 4.0.0, use self.wv.most_similar() instead).\n",
      "C:\\Users\\vivid\\Anaconda3\\envs\\test3\\lib\\site-packages\\ipykernel_launcher.py:26: DeprecationWarning: Call to deprecated `most_similar` (Method will be removed in 4.0.0, use self.wv.most_similar() instead).\n"
     ]
    }
   ],
   "source": [
    "from gensim.models import word2vec\n",
    "#from models.word_eval import WordEmbeddingEvaluator\n",
    "\n",
    "model = word2vec.Word2Vec.load('embedding/mix_addata_0117_02.model')\n",
    "model1 = word2vec.Word2Vec.load('embedding/mix_addata_0117_03.model')\n",
    "#model0 = word2vec.Word2vec.WordEmbeddingEvaluator('embedding/mix_addata_0117_02.model', method='word2vec', dim=100, tokenizer_name = 'mecab')\n",
    "#유사한 단어 출력\n",
    "#print(model.most_similar(positive=[\"영화\"]))\n",
    "#print(model.most_similar(positive=[\"회사\"]))\n",
    "#print(model.most_similar(positive=[\"웹툰\"]))\n",
    "#print(model.most_similar(positive=[\"고양이\"]))\n",
    "#print(model.most_similar(positive=[\"학교\"]))\n",
    "#print(model.most_similar(positive=[\"구두\"]))\n",
    "\n",
    "word1 = '캘린더'\n",
    "word2 = '달력'\n",
    "#list1 = model.most_similar(negative=[word1])\n",
    "list1 = model.most_similar(positive=[word1], topn=10)\n",
    "print(\"<<<\", word1, \">>> size=200 \\n\", list1)\n",
    "list1 = model1.most_similar(positive=[word1], topn=10)\n",
    "print(\"<<<\", word1, \">>> size=500\\n\", list1)\n",
    "print(\"\\n\")\n",
    "list2 = model.most_similar(positive=[word2])\n",
    "print(\"<<<\", word2, \">>> size=200 \\n\", list2)\n",
    "\n",
    "list2 = model1.most_similar(positive=[word2], topn=10)\n",
    "print(\"<<<\", word2, \">>> size=500\\n\", list2)\n"
   ]
  },
  {
   "cell_type": "code",
   "execution_count": 4,
   "metadata": {},
   "outputs": [
    {
     "name": "stdout",
     "output_type": "stream",
     "text": [
      "목걸이 size=200 \n",
      " [('다이아몬드', 0.9295957088470459), ('다이아', 0.9092100858688354), ('반지', 0.8995063304901123), ('골드', 0.8976359963417053), ('천연', 0.874322772026062), ('루비', 0.8656213283538818), ('석', 0.8651578426361084), ('랩그', 0.8534001111984253), ('왕족', 0.8525497913360596), ('캐럿', 0.8473349809646606)]\n",
      "목걸이 size=500\n",
      " [('다이아몬드', 0.9235312342643738), ('반지', 0.8912798166275024), ('다이아', 0.8908866047859192), ('골드', 0.8850208520889282), ('천연', 0.8820496797561646), ('루비', 0.8565154671669006), ('석', 0.8560364246368408), ('캐럿', 0.8502740263938904), ('각인', 0.8482137322425842), ('빙', 0.8478798866271973)]\n",
      "\n",
      "\n",
      "반지 size=200 \n",
      " [('석', 0.9106326103210449), ('목걸이', 0.8995062112808228), ('루비', 0.8982990980148315), ('다이아몬드', 0.8950907588005066), ('각인', 0.8937129378318787), ('다이아', 0.872936487197876), ('왕관', 0.8689017295837402), ('골드', 0.8653641939163208), ('천연', 0.8638752698898315), ('유사', 0.8494499921798706)]\n",
      "반지 size=500\n",
      " [('석', 0.9019517302513123), ('다이아몬드', 0.8970152139663696), ('루비', 0.8959029912948608), ('목걸이', 0.8912797570228577), ('각인', 0.8870145082473755), ('왕관', 0.8699706792831421), ('다이아', 0.8696990609169006), ('골드', 0.8614758253097534), ('천연', 0.8490564823150635), ('세공', 0.8359361886978149)]\n"
     ]
    },
    {
     "name": "stderr",
     "output_type": "stream",
     "text": [
      "C:\\Users\\vivid\\Anaconda3\\envs\\test3\\lib\\site-packages\\ipykernel_launcher.py:4: DeprecationWarning: Call to deprecated `most_similar` (Method will be removed in 4.0.0, use self.wv.most_similar() instead).\n",
      "  after removing the cwd from sys.path.\n",
      "C:\\Users\\vivid\\Anaconda3\\envs\\test3\\lib\\site-packages\\ipykernel_launcher.py:6: DeprecationWarning: Call to deprecated `most_similar` (Method will be removed in 4.0.0, use self.wv.most_similar() instead).\n",
      "  \n",
      "C:\\Users\\vivid\\Anaconda3\\envs\\test3\\lib\\site-packages\\ipykernel_launcher.py:9: DeprecationWarning: Call to deprecated `most_similar` (Method will be removed in 4.0.0, use self.wv.most_similar() instead).\n",
      "  if __name__ == '__main__':\n",
      "C:\\Users\\vivid\\Anaconda3\\envs\\test3\\lib\\site-packages\\ipykernel_launcher.py:12: DeprecationWarning: Call to deprecated `most_similar` (Method will be removed in 4.0.0, use self.wv.most_similar() instead).\n",
      "  if sys.path[0] == '':\n"
     ]
    }
   ],
   "source": [
    "word1 = '목걸이'\n",
    "word2 = '반지'\n",
    "#list1 = model.most_similar(negative=[word1])\n",
    "list1 = model.most_similar(positive=[word1], topn=10)\n",
    "print(word1, \"size=200 \\n\", list1)\n",
    "list1 = model1.most_similar(positive=[word1], topn=10)\n",
    "print(word1, \"size=500\\n\", list1)\n",
    "print(\"\\n\")\n",
    "list2 = model.most_similar(positive=[word2])\n",
    "print(word2, \"size=200 \\n\", list2)\n",
    "\n",
    "list2 = model1.most_similar(positive=[word2], topn=10)\n",
    "print(word2, \"size=500\\n\", list2)"
   ]
  },
  {
   "cell_type": "code",
   "execution_count": 7,
   "metadata": {},
   "outputs": [
    {
     "name": "stdout",
     "output_type": "stream",
     "text": [
      "100 [('달력', 0.8424149751663208), ('이루다', 0.8290383815765381), ('포스터', 0.8255964517593384), ('색연필', 0.813493549823761), ('탁상', 0.8105989694595337), ('브릭', 0.8093456029891968), ('피클', 0.8044923543930054), ('또찌', 0.7975590229034424), ('이름', 0.7935338020324707), ('색종이', 0.7935013771057129)] \n",
      "\n",
      "200 [('포스터', 0.8731492161750793), ('이루다', 0.8688995838165283), ('달력', 0.8677583932876587), ('탁상', 0.8639873266220093), ('피클', 0.8584122657775879), ('또찌', 0.8552672863006592), ('니스', 0.8505100607872009), ('색종이', 0.8419914245605469), ('민화', 0.8396440744400024), ('야생화', 0.8391923308372498)] \n",
      "\n",
      "300 [('달력', 0.849303126335144), ('또찌', 0.8442368507385254), ('포스터', 0.8405851125717163), ('이루다', 0.839841365814209), ('어둠', 0.8293192982673645), ('탁상', 0.8286614418029785), ('니스', 0.8278354406356812), ('민화', 0.8270664215087891), ('이름', 0.8260394334793091), ('브릭', 0.8257720470428467)] \n",
      "\n",
      "400 [('포스터', 0.8459749221801758), ('달력', 0.8450127243995667), ('이루다', 0.8384302258491516), ('또찌', 0.8281771540641785), ('탁상', 0.8281568884849548), ('색종이', 0.8279932737350464), ('브릭', 0.8234927654266357), ('어둠', 0.8227100372314453), ('야생화', 0.8197780251502991), ('피클', 0.8123524188995361)] \n",
      "\n",
      "500 [('달력', 0.8733930587768555), ('포스터', 0.8675040006637573), ('탁상', 0.8510938882827759), ('또찌', 0.8412260413169861), ('야생화', 0.8388016223907471), ('이루다', 0.8370954990386963), ('피클', 0.8365791440010071), ('브릭', 0.8322828412055969), ('baance', 0.8321844339370728), ('색종이', 0.83143150806427)] \n",
      "\n"
     ]
    },
    {
     "name": "stderr",
     "output_type": "stream",
     "text": [
      "C:\\Users\\vivid\\Anaconda3\\envs\\test3\\lib\\site-packages\\ipykernel_launcher.py:12: DeprecationWarning: Call to deprecated `most_similar` (Method will be removed in 4.0.0, use self.wv.most_similar() instead).\n",
      "  if sys.path[0] == '':\n",
      "C:\\Users\\vivid\\Anaconda3\\envs\\test3\\lib\\site-packages\\ipykernel_launcher.py:13: DeprecationWarning: Call to deprecated `most_similar` (Method will be removed in 4.0.0, use self.wv.most_similar() instead).\n",
      "  del sys.path[0]\n",
      "C:\\Users\\vivid\\Anaconda3\\envs\\test3\\lib\\site-packages\\ipykernel_launcher.py:14: DeprecationWarning: Call to deprecated `most_similar` (Method will be removed in 4.0.0, use self.wv.most_similar() instead).\n",
      "  \n",
      "C:\\Users\\vivid\\Anaconda3\\envs\\test3\\lib\\site-packages\\ipykernel_launcher.py:15: DeprecationWarning: Call to deprecated `most_similar` (Method will be removed in 4.0.0, use self.wv.most_similar() instead).\n",
      "  from ipykernel import kernelapp as app\n",
      "C:\\Users\\vivid\\Anaconda3\\envs\\test3\\lib\\site-packages\\ipykernel_launcher.py:16: DeprecationWarning: Call to deprecated `most_similar` (Method will be removed in 4.0.0, use self.wv.most_similar() instead).\n",
      "  app.launch_new_instance()\n"
     ]
    }
   ],
   "source": [
    "from gensim.models import word2vec\n",
    "#from models.word_eval import WordEmbeddingEvaluator\n",
    "\n",
    "model100 = word2vec.Word2Vec.load('embedding/0117_size100.model')\n",
    "model200 = word2vec.Word2Vec.load('embedding/0117_size200.model')\n",
    "model300 = word2vec.Word2Vec.load('embedding/0117_size300.model')\n",
    "model400 = word2vec.Word2Vec.load('embedding/0117_size400.model')\n",
    "model500 = word2vec.Word2Vec.load('embedding/0117_size500.model')\n",
    "\n",
    "word = '캘린더'\n",
    "\n",
    "print('100', model100.most_similar(positive=[word], topn=10), '\\n')\n",
    "print('200', model200.most_similar(positive=[word], topn=10), '\\n')\n",
    "print('300', model300.most_similar(positive=[word], topn=10), '\\n')\n",
    "print('400', model400.most_similar(positive=[word], topn=10), '\\n')\n",
    "print('500', model500.most_similar(positive=[word], topn=10), '\\n')\n"
   ]
  },
  {
   "cell_type": "code",
   "execution_count": 8,
   "metadata": {},
   "outputs": [
    {
     "name": "stdout",
     "output_type": "stream",
     "text": [
      "100 [('이동', 0.8741281628608704), ('레더', 0.8262969255447388), ('방검', 0.8096736073493958), ('소매치기', 0.7643836736679077), ('덴탈애', 0.7520577907562256), ('옵티펫', 0.7475863695144653), ('싫어하다', 0.7455909252166748), ('잠자다', 0.7428390979766846), ('착륙', 0.7381570339202881), ('만블', 0.7321981191635132)] \n",
      "\n",
      "200 [('이동', 0.873417854309082), ('방검', 0.8275204300880432), ('소매치기', 0.8254073262214661), ('레더', 0.8230846524238586), ('싫어하다', 0.7931545972824097), ('변형', 0.7738150358200073), ('티디', 0.7731555104255676), ('오오', 0.7718175649642944), ('다기', 0.7650963664054871), ('탄탄', 0.7626121044158936)] \n",
      "\n",
      "300 [('이동', 0.8639742732048035), ('방검', 0.8495097160339355), ('레더', 0.832966685295105), ('소매치기', 0.8115952014923096), ('싫어하다', 0.7924036979675293), ('퀄팩', 0.7783090472221375), ('편견', 0.7774757146835327), ('해빗', 0.7772682905197144), ('부장', 0.7707453370094299), ('덴탈애', 0.768930971622467)] \n",
      "\n",
      "400 [('이동', 0.8494107723236084), ('방검', 0.8075333833694458), ('레더', 0.8010430932044983), ('팬', 0.7760350704193115), ('옵티펫', 0.7741185426712036), ('부장', 0.7670565843582153), ('병기', 0.765661358833313), ('덴탈애', 0.7625315189361572), ('편견', 0.75983065366745), ('변형', 0.7567282915115356)] \n",
      "\n",
      "500 [('이동', 0.8919734954833984), ('방검', 0.8523422479629517), ('레더', 0.8441622257232666), ('소매치기', 0.8304612636566162), ('싫어하다', 0.8129198551177979), ('탄탄', 0.8055741786956787), ('부장', 0.7854843139648438), ('오오', 0.7846980094909668), ('변형', 0.7829008102416992), ('병기', 0.7820650339126587)] \n",
      "\n"
     ]
    },
    {
     "name": "stderr",
     "output_type": "stream",
     "text": [
      "C:\\Users\\vivid\\Anaconda3\\envs\\test3\\lib\\site-packages\\ipykernel_launcher.py:3: DeprecationWarning: Call to deprecated `most_similar` (Method will be removed in 4.0.0, use self.wv.most_similar() instead).\n",
      "  This is separate from the ipykernel package so we can avoid doing imports until\n",
      "C:\\Users\\vivid\\Anaconda3\\envs\\test3\\lib\\site-packages\\ipykernel_launcher.py:4: DeprecationWarning: Call to deprecated `most_similar` (Method will be removed in 4.0.0, use self.wv.most_similar() instead).\n",
      "  after removing the cwd from sys.path.\n",
      "C:\\Users\\vivid\\Anaconda3\\envs\\test3\\lib\\site-packages\\ipykernel_launcher.py:5: DeprecationWarning: Call to deprecated `most_similar` (Method will be removed in 4.0.0, use self.wv.most_similar() instead).\n",
      "  \"\"\"\n",
      "C:\\Users\\vivid\\Anaconda3\\envs\\test3\\lib\\site-packages\\ipykernel_launcher.py:6: DeprecationWarning: Call to deprecated `most_similar` (Method will be removed in 4.0.0, use self.wv.most_similar() instead).\n",
      "  \n",
      "C:\\Users\\vivid\\Anaconda3\\envs\\test3\\lib\\site-packages\\ipykernel_launcher.py:7: DeprecationWarning: Call to deprecated `most_similar` (Method will be removed in 4.0.0, use self.wv.most_similar() instead).\n",
      "  import sys\n"
     ]
    }
   ],
   "source": [
    "word = '반려동물'\n",
    "\n",
    "print('100', model100.most_similar(positive=[word], topn=10), '\\n')\n",
    "print('200', model200.most_similar(positive=[word], topn=10), '\\n')\n",
    "print('300', model300.most_similar(positive=[word], topn=10), '\\n')\n",
    "print('400', model400.most_similar(positive=[word], topn=10), '\\n')\n",
    "print('500', model500.most_similar(positive=[word], topn=10), '\\n')"
   ]
  },
  {
   "cell_type": "code",
   "execution_count": 9,
   "metadata": {},
   "outputs": [
    {
     "name": "stdout",
     "output_type": "stream",
     "text": [
      "100 [('실험실', 0.9352449178695679), ('스케치업', 0.933242917060852), ('왕궁', 0.9331942200660706), ('복합', 0.9312542676925659), ('배경', 0.9293526411056519), ('중소', 0.9289525747299194), ('세렌', 0.9272391200065613), ('Set', 0.9241611957550049), ('테헤란로', 0.9224348068237305), ('무협', 0.9175525307655334)] \n",
      "\n",
      "200 [('배경', 0.9417704343795776), ('스케치업', 0.9341878890991211), ('왕궁', 0.9210797548294067), ('무협', 0.9204128980636597), ('실험실', 0.9194883108139038), ('아파트', 0.9188692569732666), ('사극', 0.9178766012191772), ('세렌', 0.9155051708221436), ('테헤란로', 0.9135850667953491), ('해안', 0.911576509475708)] \n",
      "\n",
      "300 [('배경', 0.9361535310745239), ('스케치업', 0.9332448244094849), ('주택', 0.9330077171325684), ('아파트', 0.9302982091903687), ('Set', 0.9299676418304443), ('왕궁', 0.9295046329498291), ('방송국', 0.9293256998062134), ('해안', 0.9260220527648926), ('복합', 0.9253911972045898), ('중소', 0.9252978563308716)] \n",
      "\n",
      "400 [('배경', 0.9451338052749634), ('스케치업', 0.9446865916252136), ('테헤란로', 0.933113694190979), ('무협', 0.932532548904419), ('사극', 0.9266775846481323), ('Set', 0.9257237315177917), ('왕궁', 0.9233150482177734), ('해안', 0.923210620880127), ('저택', 0.918192982673645), ('세렌', 0.9168355464935303)] \n",
      "\n",
      "500 [('배경', 0.9421390891075134), ('스케치업', 0.9408746361732483), ('왕궁', 0.9350998401641846), ('복합', 0.9287998676300049), ('방송국', 0.9239097237586975), ('실험실', 0.9232146143913269), ('무협', 0.9221630096435547), ('Set', 0.921599268913269), ('테헤란로', 0.9200236201286316), ('세렌', 0.9187368154525757)] \n",
      "\n"
     ]
    },
    {
     "name": "stderr",
     "output_type": "stream",
     "text": [
      "C:\\Users\\vivid\\Anaconda3\\envs\\test3\\lib\\site-packages\\ipykernel_launcher.py:3: DeprecationWarning: Call to deprecated `most_similar` (Method will be removed in 4.0.0, use self.wv.most_similar() instead).\n",
      "  This is separate from the ipykernel package so we can avoid doing imports until\n",
      "C:\\Users\\vivid\\Anaconda3\\envs\\test3\\lib\\site-packages\\ipykernel_launcher.py:4: DeprecationWarning: Call to deprecated `most_similar` (Method will be removed in 4.0.0, use self.wv.most_similar() instead).\n",
      "  after removing the cwd from sys.path.\n",
      "C:\\Users\\vivid\\Anaconda3\\envs\\test3\\lib\\site-packages\\ipykernel_launcher.py:5: DeprecationWarning: Call to deprecated `most_similar` (Method will be removed in 4.0.0, use self.wv.most_similar() instead).\n",
      "  \"\"\"\n",
      "C:\\Users\\vivid\\Anaconda3\\envs\\test3\\lib\\site-packages\\ipykernel_launcher.py:6: DeprecationWarning: Call to deprecated `most_similar` (Method will be removed in 4.0.0, use self.wv.most_similar() instead).\n",
      "  \n",
      "C:\\Users\\vivid\\Anaconda3\\envs\\test3\\lib\\site-packages\\ipykernel_launcher.py:7: DeprecationWarning: Call to deprecated `most_similar` (Method will be removed in 4.0.0, use self.wv.most_similar() instead).\n",
      "  import sys\n"
     ]
    }
   ],
   "source": [
    "word = '웹툰'\n",
    "\n",
    "print('100', model100.most_similar(positive=[word], topn=10), '\\n')\n",
    "print('200', model200.most_similar(positive=[word], topn=10), '\\n')\n",
    "print('300', model300.most_similar(positive=[word], topn=10), '\\n')\n",
    "print('400', model400.most_similar(positive=[word], topn=10), '\\n')\n",
    "print('500', model500.most_similar(positive=[word], topn=10), '\\n')"
   ]
  },
  {
   "cell_type": "code",
   "execution_count": 10,
   "metadata": {},
   "outputs": [
    {
     "name": "stdout",
     "output_type": "stream",
     "text": [
      "100 [('지지', 0.920199453830719), ('뮬러', 0.91826331615448), ('태아', 0.9140901565551758), ('방짜유기', 0.9122164249420166), ('엠보싱', 0.9075216054916382), ('Eco', 0.9052348136901855), ('보호대', 0.9009164571762085), ('라이스', 0.8984304070472717), ('빠르다', 0.895016074180603), ('가습기', 0.8945438265800476)] \n",
      "\n",
      "200 [('뮬러', 0.9334969520568848), ('지지', 0.9288013577461243), ('닦다', 0.9248555898666382), ('태아', 0.923967719078064), ('문방사우', 0.9217698574066162), ('잡고', 0.9192183017730713), ('쉴드', 0.9191921949386597), ('사과쥬스', 0.9173352718353271), ('피케', 0.9168835878372192), ('레브', 0.916318953037262)] \n",
      "\n",
      "300 [('페트병', 0.9467049837112427), ('Eco', 0.9359257817268372), ('태아', 0.9356482625007629), ('특화', 0.9237622022628784), ('행주', 0.9214074611663818), ('뮬러', 0.92037433385849), ('나빌레', 0.9194156527519226), ('쉴드', 0.9150150418281555), ('지지', 0.9146448969841003), ('볼링', 0.91451096534729)] \n",
      "\n",
      "400 [('페트병', 0.9415178298950195), ('Eco', 0.9387706518173218), ('뮬러', 0.9377251267433167), ('엠보싱', 0.9252861738204956), ('태아', 0.9223917722702026), ('지지', 0.922330915927887), ('익', 0.9195764660835266), ('재생', 0.916246235370636), ('쪼', 0.9149132966995239), ('특화', 0.9132794737815857)] \n",
      "\n",
      "500 [('뮬러', 0.9428930282592773), ('배변', 0.9372084140777588), ('페트병', 0.9334219694137573), ('태아', 0.9311743974685669), ('NOT', 0.9236088991165161), ('이프', 0.9175214767456055), ('쉴드', 0.9171341061592102), ('지지', 0.914682924747467), ('가습기', 0.9146604537963867), ('라이스', 0.9123737812042236)] \n",
      "\n"
     ]
    },
    {
     "name": "stderr",
     "output_type": "stream",
     "text": [
      "C:\\Users\\vivid\\Anaconda3\\envs\\test3\\lib\\site-packages\\ipykernel_launcher.py:3: DeprecationWarning: Call to deprecated `most_similar` (Method will be removed in 4.0.0, use self.wv.most_similar() instead).\n",
      "  This is separate from the ipykernel package so we can avoid doing imports until\n",
      "C:\\Users\\vivid\\Anaconda3\\envs\\test3\\lib\\site-packages\\ipykernel_launcher.py:4: DeprecationWarning: Call to deprecated `most_similar` (Method will be removed in 4.0.0, use self.wv.most_similar() instead).\n",
      "  after removing the cwd from sys.path.\n",
      "C:\\Users\\vivid\\Anaconda3\\envs\\test3\\lib\\site-packages\\ipykernel_launcher.py:5: DeprecationWarning: Call to deprecated `most_similar` (Method will be removed in 4.0.0, use self.wv.most_similar() instead).\n",
      "  \"\"\"\n",
      "C:\\Users\\vivid\\Anaconda3\\envs\\test3\\lib\\site-packages\\ipykernel_launcher.py:6: DeprecationWarning: Call to deprecated `most_similar` (Method will be removed in 4.0.0, use self.wv.most_similar() instead).\n",
      "  \n",
      "C:\\Users\\vivid\\Anaconda3\\envs\\test3\\lib\\site-packages\\ipykernel_launcher.py:7: DeprecationWarning: Call to deprecated `most_similar` (Method will be removed in 4.0.0, use self.wv.most_similar() instead).\n",
      "  import sys\n"
     ]
    }
   ],
   "source": [
    "word = '컴퓨터'\n",
    "\n",
    "print('100', model100.most_similar(positive=[word], topn=10), '\\n')\n",
    "print('200', model200.most_similar(positive=[word], topn=10), '\\n')\n",
    "print('300', model300.most_similar(positive=[word], topn=10), '\\n')\n",
    "print('400', model400.most_similar(positive=[word], topn=10), '\\n')\n",
    "print('500', model500.most_similar(positive=[word], topn=10), '\\n')"
   ]
  },
  {
   "cell_type": "code",
   "execution_count": 11,
   "metadata": {},
   "outputs": [
    {
     "name": "stdout",
     "output_type": "stream",
     "text": [
      "100 [('파우치', 0.9133979678153992), ('MOFT', 0.9036644697189331), ('태블릿', 0.8795325756072998), ('아이패드', 0.8629791736602783), ('캐리', 0.8585062026977539), ('간다', 0.854914665222168), ('미세', 0.8259357213973999), ('사첼', 0.7936742305755615), ('빵빵', 0.7813575267791748), ('거치', 0.774486243724823)] \n",
      "\n",
      "200 [('파우치', 0.9279799461364746), ('아이패드', 0.8976728916168213), ('MOFT', 0.8923124670982361), ('캐리', 0.8739562034606934), ('태블릿', 0.856877326965332), ('간다', 0.8536216020584106), ('미세', 0.8325218558311462), ('큐티', 0.8178340196609497), ('백의', 0.8005942702293396), ('빵빵', 0.796709418296814)] \n",
      "\n",
      "300 [('파우치', 0.9218665957450867), ('아이패드', 0.9032564163208008), ('MOFT', 0.8974125385284424), ('간다', 0.8824300765991211), ('태블릿', 0.8771604299545288), ('캐리', 0.8611382246017456), ('곰돌이', 0.823196291923523), ('마우스', 0.8197343349456787), ('미세', 0.81828773021698), ('복조리', 0.8134820461273193)] \n",
      "\n",
      "400 [('파우치', 0.9187275171279907), ('아이패드', 0.8968663811683655), ('간다', 0.8826354742050171), ('태블릿', 0.8789182305335999), ('캐리', 0.8660975098609924), ('MOFT', 0.8624817132949829), ('빵빵', 0.8410428762435913), ('미세', 0.8390929102897644), ('큐티', 0.8152090311050415), ('복조리', 0.8131231069564819)] \n",
      "\n",
      "500 [('파우치', 0.9270301461219788), ('아이패드', 0.9000928997993469), ('태블릿', 0.8781607151031494), ('MOFT', 0.8735545873641968), ('캐리', 0.8588945865631104), ('간다', 0.8449711799621582), ('곰돌이', 0.8219254016876221), ('빵빵', 0.8180410861968994), ('미세', 0.8153164982795715), ('마우스', 0.807254433631897)] \n",
      "\n"
     ]
    },
    {
     "name": "stderr",
     "output_type": "stream",
     "text": [
      "C:\\Users\\vivid\\Anaconda3\\envs\\test3\\lib\\site-packages\\ipykernel_launcher.py:3: DeprecationWarning: Call to deprecated `most_similar` (Method will be removed in 4.0.0, use self.wv.most_similar() instead).\n",
      "  This is separate from the ipykernel package so we can avoid doing imports until\n",
      "C:\\Users\\vivid\\Anaconda3\\envs\\test3\\lib\\site-packages\\ipykernel_launcher.py:4: DeprecationWarning: Call to deprecated `most_similar` (Method will be removed in 4.0.0, use self.wv.most_similar() instead).\n",
      "  after removing the cwd from sys.path.\n",
      "C:\\Users\\vivid\\Anaconda3\\envs\\test3\\lib\\site-packages\\ipykernel_launcher.py:5: DeprecationWarning: Call to deprecated `most_similar` (Method will be removed in 4.0.0, use self.wv.most_similar() instead).\n",
      "  \"\"\"\n",
      "C:\\Users\\vivid\\Anaconda3\\envs\\test3\\lib\\site-packages\\ipykernel_launcher.py:6: DeprecationWarning: Call to deprecated `most_similar` (Method will be removed in 4.0.0, use self.wv.most_similar() instead).\n",
      "  \n",
      "C:\\Users\\vivid\\Anaconda3\\envs\\test3\\lib\\site-packages\\ipykernel_launcher.py:7: DeprecationWarning: Call to deprecated `most_similar` (Method will be removed in 4.0.0, use self.wv.most_similar() instead).\n",
      "  import sys\n"
     ]
    }
   ],
   "source": [
    "#차원 높아지면 브랜드(고유명사)는 뒤에 위치하는 듯.\n",
    "word = '노트북'\n",
    "\n",
    "print('100', model100.most_similar(positive=[word], topn=10), '\\n')\n",
    "print('200', model200.most_similar(positive=[word], topn=10), '\\n')\n",
    "print('300', model300.most_similar(positive=[word], topn=10), '\\n')\n",
    "print('400', model400.most_similar(positive=[word], topn=10), '\\n')\n",
    "print('500', model500.most_similar(positive=[word], topn=10), '\\n')"
   ]
  },
  {
   "cell_type": "code",
   "execution_count": 12,
   "metadata": {},
   "outputs": [
    {
     "name": "stdout",
     "output_type": "stream",
     "text": [
      "100 [('던전', 0.8260194063186646), ('배신', 0.8219786286354065), ('모바일', 0.8143734931945801), ('한국어', 0.8108159303665161), ('난무', 0.8088210821151733), ('먼치킨', 0.8073270320892334), ('구룡', 0.8062624335289001), ('멸망', 0.8029878735542297), ('퍼스트', 0.8018721342086792), ('전설', 0.799347460269928)] \n",
      "\n",
      "200 [('던전', 0.8466479778289795), ('한국어', 0.8448944091796875), ('페스티벌', 0.843780517578125), ('배신', 0.8427265882492065), ('퍼스트', 0.841866135597229), ('야외', 0.8307842016220093), ('구룡', 0.8288816213607788), ('난무', 0.8285708427429199), ('홀릭', 0.8268331289291382), ('먼치킨', 0.8203192949295044)] \n",
      "\n",
      "300 [('한국어', 0.8574957251548767), ('던전', 0.8545148372650146), ('구룡', 0.843622624874115), ('배신', 0.8420977592468262), ('퍼스트', 0.8366165161132812), ('풍선', 0.8349583148956299), ('모바일', 0.8343453407287598), ('전설', 0.8340061902999878), ('멸망', 0.8284281492233276), ('무료', 0.8252494931221008)] \n",
      "\n",
      "400 [('던전', 0.8549286127090454), ('한국어', 0.8452575206756592), ('먼치킨', 0.8394120931625366), ('배신', 0.8368738889694214), ('퍼스트', 0.8290733098983765), ('전설', 0.8269920349121094), ('모바일', 0.8255093097686768), ('주사위', 0.8230674266815186), ('종류', 0.8223708868026733), ('풍선', 0.8212777972221375)] \n",
      "\n",
      "500 [('퍼스트', 0.8534265160560608), ('던전', 0.8447281718254089), ('풍선', 0.8396301865577698), ('한국어', 0.8386330008506775), ('모바일', 0.838452160358429), ('멸망', 0.8378660082817078), ('담력', 0.8349011540412903), ('시험', 0.8331860303878784), ('먼치킨', 0.8294476270675659), ('전설', 0.827800989151001)] \n",
      "\n"
     ]
    },
    {
     "name": "stderr",
     "output_type": "stream",
     "text": [
      "C:\\Users\\vivid\\Anaconda3\\envs\\test3\\lib\\site-packages\\ipykernel_launcher.py:3: DeprecationWarning: Call to deprecated `most_similar` (Method will be removed in 4.0.0, use self.wv.most_similar() instead).\n",
      "  This is separate from the ipykernel package so we can avoid doing imports until\n",
      "C:\\Users\\vivid\\Anaconda3\\envs\\test3\\lib\\site-packages\\ipykernel_launcher.py:4: DeprecationWarning: Call to deprecated `most_similar` (Method will be removed in 4.0.0, use self.wv.most_similar() instead).\n",
      "  after removing the cwd from sys.path.\n",
      "C:\\Users\\vivid\\Anaconda3\\envs\\test3\\lib\\site-packages\\ipykernel_launcher.py:5: DeprecationWarning: Call to deprecated `most_similar` (Method will be removed in 4.0.0, use self.wv.most_similar() instead).\n",
      "  \"\"\"\n",
      "C:\\Users\\vivid\\Anaconda3\\envs\\test3\\lib\\site-packages\\ipykernel_launcher.py:6: DeprecationWarning: Call to deprecated `most_similar` (Method will be removed in 4.0.0, use self.wv.most_similar() instead).\n",
      "  \n",
      "C:\\Users\\vivid\\Anaconda3\\envs\\test3\\lib\\site-packages\\ipykernel_launcher.py:7: DeprecationWarning: Call to deprecated `most_similar` (Method will be removed in 4.0.0, use self.wv.most_similar() instead).\n",
      "  import sys\n"
     ]
    }
   ],
   "source": [
    "word = '게임'\n",
    "\n",
    "print('100', model100.most_similar(positive=[word], topn=10), '\\n')\n",
    "print('200', model200.most_similar(positive=[word], topn=10), '\\n')\n",
    "print('300', model300.most_similar(positive=[word], topn=10), '\\n')\n",
    "print('400', model400.most_similar(positive=[word], topn=10), '\\n')\n",
    "print('500', model500.most_similar(positive=[word], topn=10), '\\n')"
   ]
  },
  {
   "cell_type": "code",
   "execution_count": 13,
   "metadata": {},
   "outputs": [
    {
     "name": "stdout",
     "output_type": "stream",
     "text": [
      "100 [('루비', 0.8967655301094055), ('석', 0.8927963376045227), ('다이아몬드', 0.8770363926887512), ('각인', 0.8713147640228271), ('왕관', 0.8577561378479004), ('목걸이', 0.8561632633209229), ('골드', 0.8519066572189331), ('다이아', 0.8517515659332275), ('출세', 0.847953736782074), ('천연', 0.8405907154083252)] \n",
      "\n",
      "200 [('석', 0.9105116128921509), ('루비', 0.9088402390480042), ('다이아몬드', 0.8986844420433044), ('목걸이', 0.8920977115631104), ('골드', 0.883548378944397), ('각인', 0.8777669072151184), ('다이아', 0.8720195293426514), ('랩그', 0.8619067668914795), ('천연', 0.8616938591003418), ('K', 0.8482717275619507)] \n",
      "\n",
      "300 [('루비', 0.895458459854126), ('석', 0.893803596496582), ('각인', 0.8881474733352661), ('다이아몬드', 0.8849804401397705), ('목걸이', 0.8801831007003784), ('천연', 0.8706201910972595), ('다이아', 0.865892767906189), ('골드', 0.853441596031189), ('랩그', 0.8375259637832642), ('왕관', 0.8360457420349121)] \n",
      "\n",
      "400 [('루비', 0.9086694717407227), ('석', 0.8994780778884888), ('다이아몬드', 0.877547025680542), ('다이아', 0.8712407946586609), ('세공', 0.868871808052063), ('각인', 0.8637653589248657), ('골드', 0.8626799583435059), ('왕관', 0.8619874715805054), ('목걸이', 0.8559043407440186), ('천연', 0.8431344032287598)] \n",
      "\n",
      "500 [('루비', 0.9080417156219482), ('석', 0.9051481485366821), ('다이아몬드', 0.9005868434906006), ('목걸이', 0.8993091583251953), ('골드', 0.8903665542602539), ('각인', 0.8886600732803345), ('다이아', 0.88022780418396), ('랩그', 0.8729546070098877), ('천연', 0.8661420345306396), ('세공', 0.8630270957946777)] \n",
      "\n"
     ]
    },
    {
     "name": "stderr",
     "output_type": "stream",
     "text": [
      "C:\\Users\\vivid\\Anaconda3\\envs\\test3\\lib\\site-packages\\ipykernel_launcher.py:3: DeprecationWarning: Call to deprecated `most_similar` (Method will be removed in 4.0.0, use self.wv.most_similar() instead).\n",
      "  This is separate from the ipykernel package so we can avoid doing imports until\n",
      "C:\\Users\\vivid\\Anaconda3\\envs\\test3\\lib\\site-packages\\ipykernel_launcher.py:4: DeprecationWarning: Call to deprecated `most_similar` (Method will be removed in 4.0.0, use self.wv.most_similar() instead).\n",
      "  after removing the cwd from sys.path.\n",
      "C:\\Users\\vivid\\Anaconda3\\envs\\test3\\lib\\site-packages\\ipykernel_launcher.py:5: DeprecationWarning: Call to deprecated `most_similar` (Method will be removed in 4.0.0, use self.wv.most_similar() instead).\n",
      "  \"\"\"\n",
      "C:\\Users\\vivid\\Anaconda3\\envs\\test3\\lib\\site-packages\\ipykernel_launcher.py:6: DeprecationWarning: Call to deprecated `most_similar` (Method will be removed in 4.0.0, use self.wv.most_similar() instead).\n",
      "  \n",
      "C:\\Users\\vivid\\Anaconda3\\envs\\test3\\lib\\site-packages\\ipykernel_launcher.py:7: DeprecationWarning: Call to deprecated `most_similar` (Method will be removed in 4.0.0, use self.wv.most_similar() instead).\n",
      "  import sys\n"
     ]
    }
   ],
   "source": [
    "word = '반지'\n",
    "\n",
    "print('100', model100.most_similar(positive=[word], topn=10), '\\n')\n",
    "print('200', model200.most_similar(positive=[word], topn=10), '\\n')\n",
    "print('300', model300.most_similar(positive=[word], topn=10), '\\n')\n",
    "print('400', model400.most_similar(positive=[word], topn=10), '\\n')\n",
    "print('500', model500.most_similar(positive=[word], topn=10), '\\n')"
   ]
  },
  {
   "cell_type": "code",
   "execution_count": 14,
   "metadata": {},
   "outputs": [
    {
     "name": "stdout",
     "output_type": "stream",
     "text": [
      "100 [('다이아몬드', 0.901037871837616), ('다이아', 0.8727556467056274), ('골드', 0.8574256300926208), ('반지', 0.8561632633209229), ('천연', 0.8505371809005737), ('캐럿', 0.8397529125213623), ('석', 0.830893874168396), ('루비', 0.826594352722168), ('랩그', 0.8234844207763672), ('왕족', 0.82076096534729)] \n",
      "\n",
      "200 [('다이아몬드', 0.9139328002929688), ('반지', 0.8920977115631104), ('다이아', 0.8859007358551025), ('골드', 0.8858557939529419), ('천연', 0.8722450733184814), ('왕족', 0.8613128662109375), ('루비', 0.8523651361465454), ('석', 0.8474416732788086), ('랩그', 0.8426584005355835), ('캐럿', 0.8402277231216431)] \n",
      "\n",
      "300 [('다이아몬드', 0.9217492938041687), ('다이아', 0.8925113081932068), ('골드', 0.886493444442749), ('반지', 0.8801831007003784), ('천연', 0.8793122172355652), ('세공', 0.8564167022705078), ('주얼리', 0.8529648184776306), ('루비', 0.8525302410125732), ('브리앙', 0.8496377468109131), ('빙', 0.8492413759231567)] \n",
      "\n",
      "400 [('다이아몬드', 0.9232590198516846), ('다이아', 0.8971343040466309), ('골드', 0.8788369297981262), ('천연', 0.8743668794631958), ('반지', 0.8559042811393738), ('왕족', 0.8492060303688049), ('세공', 0.8401665687561035), ('랩그', 0.83655846118927), ('루비', 0.8351835012435913), ('캐럿', 0.8338592648506165)] \n",
      "\n",
      "500 [('다이아몬드', 0.9210188388824463), ('다이아', 0.9029413461685181), ('반지', 0.8993090391159058), ('골드', 0.8785169720649719), ('천연', 0.8591504096984863), ('랩그', 0.8575037717819214), ('캐럿', 0.8573015928268433), ('루비', 0.8572163581848145), ('석', 0.854638397693634), ('각인', 0.8376092910766602)] \n",
      "\n"
     ]
    },
    {
     "name": "stderr",
     "output_type": "stream",
     "text": [
      "C:\\Users\\vivid\\Anaconda3\\envs\\test3\\lib\\site-packages\\ipykernel_launcher.py:3: DeprecationWarning: Call to deprecated `most_similar` (Method will be removed in 4.0.0, use self.wv.most_similar() instead).\n",
      "  This is separate from the ipykernel package so we can avoid doing imports until\n",
      "C:\\Users\\vivid\\Anaconda3\\envs\\test3\\lib\\site-packages\\ipykernel_launcher.py:4: DeprecationWarning: Call to deprecated `most_similar` (Method will be removed in 4.0.0, use self.wv.most_similar() instead).\n",
      "  after removing the cwd from sys.path.\n",
      "C:\\Users\\vivid\\Anaconda3\\envs\\test3\\lib\\site-packages\\ipykernel_launcher.py:5: DeprecationWarning: Call to deprecated `most_similar` (Method will be removed in 4.0.0, use self.wv.most_similar() instead).\n",
      "  \"\"\"\n",
      "C:\\Users\\vivid\\Anaconda3\\envs\\test3\\lib\\site-packages\\ipykernel_launcher.py:6: DeprecationWarning: Call to deprecated `most_similar` (Method will be removed in 4.0.0, use self.wv.most_similar() instead).\n",
      "  \n",
      "C:\\Users\\vivid\\Anaconda3\\envs\\test3\\lib\\site-packages\\ipykernel_launcher.py:7: DeprecationWarning: Call to deprecated `most_similar` (Method will be removed in 4.0.0, use self.wv.most_similar() instead).\n",
      "  import sys\n"
     ]
    }
   ],
   "source": [
    "#특성 뚜렷한건 차원에 상관없이 잘 나옴\n",
    "word = '목걸이'\n",
    "\n",
    "print('100', model100.most_similar(positive=[word], topn=10), '\\n')\n",
    "print('200', model200.most_similar(positive=[word], topn=10), '\\n')\n",
    "print('300', model300.most_similar(positive=[word], topn=10), '\\n')\n",
    "print('400', model400.most_similar(positive=[word], topn=10), '\\n')\n",
    "print('500', model500.most_similar(positive=[word], topn=10), '\\n')"
   ]
  },
  {
   "cell_type": "code",
   "execution_count": 15,
   "metadata": {},
   "outputs": [
    {
     "name": "stdout",
     "output_type": "stream",
     "text": [
      "100 [('팝업', 0.8600244522094727), ('이름', 0.850568950176239), ('행복하다', 0.8493406176567078), ('심야', 0.8336852788925171), ('만년', 0.830696702003479), ('포토', 0.8275398015975952), ('발간', 0.8233175277709961), ('퇴근', 0.8230241537094116), ('사색', 0.8220888376235962), ('멸종위기', 0.8213542699813843)] \n",
      "\n",
      "200 [('이름', 0.8897124528884888), ('위인', 0.8884719610214233), ('만년', 0.8643900156021118), ('오브', 0.8630765676498413), ('행복하다', 0.8562618494033813), ('팝업', 0.8554560542106628), ('복식', 0.8546188473701477), ('수집', 0.8504361510276794), ('사진', 0.8498212099075317), ('아트', 0.8493230938911438)] \n",
      "\n",
      "300 [('공존', 0.8653228878974915), ('팝업', 0.8641402125358582), ('이름', 0.863678514957428), ('복식', 0.8634112477302551), ('행복하다', 0.8616520166397095), ('공감', 0.8603743314743042), ('존재', 0.8580333590507507), ('파도', 0.8575277328491211), ('두번째', 0.8561519384384155), ('플랫포머', 0.8551212549209595)] \n",
      "\n",
      "400 [('로보', 0.8674494028091431), ('이름', 0.8657745122909546), ('아카이브', 0.8594967126846313), ('심야', 0.8584831953048706), ('공감', 0.8583323955535889), ('오브', 0.8569420576095581), ('공존', 0.8553928136825562), ('사진', 0.854600191116333), ('카드게임', 0.8544685244560242), ('두번째', 0.8501101732254028)] \n",
      "\n",
      "500 [('이름', 0.8919382095336914), ('팝업', 0.8827545642852783), ('만년', 0.8805077075958252), ('심야', 0.8719993233680725), ('행복하다', 0.8695918321609497), ('유기동물', 0.8685388565063477), ('복식', 0.8644928336143494), ('색연필', 0.8635782599449158), ('커뮤니티', 0.8560256958007812), ('잡지', 0.8509371280670166)] \n",
      "\n"
     ]
    },
    {
     "name": "stderr",
     "output_type": "stream",
     "text": [
      "C:\\Users\\vivid\\Anaconda3\\envs\\test3\\lib\\site-packages\\ipykernel_launcher.py:3: DeprecationWarning: Call to deprecated `most_similar` (Method will be removed in 4.0.0, use self.wv.most_similar() instead).\n",
      "  This is separate from the ipykernel package so we can avoid doing imports until\n",
      "C:\\Users\\vivid\\Anaconda3\\envs\\test3\\lib\\site-packages\\ipykernel_launcher.py:4: DeprecationWarning: Call to deprecated `most_similar` (Method will be removed in 4.0.0, use self.wv.most_similar() instead).\n",
      "  after removing the cwd from sys.path.\n",
      "C:\\Users\\vivid\\Anaconda3\\envs\\test3\\lib\\site-packages\\ipykernel_launcher.py:5: DeprecationWarning: Call to deprecated `most_similar` (Method will be removed in 4.0.0, use self.wv.most_similar() instead).\n",
      "  \"\"\"\n",
      "C:\\Users\\vivid\\Anaconda3\\envs\\test3\\lib\\site-packages\\ipykernel_launcher.py:6: DeprecationWarning: Call to deprecated `most_similar` (Method will be removed in 4.0.0, use self.wv.most_similar() instead).\n",
      "  \n",
      "C:\\Users\\vivid\\Anaconda3\\envs\\test3\\lib\\site-packages\\ipykernel_launcher.py:7: DeprecationWarning: Call to deprecated `most_similar` (Method will be removed in 4.0.0, use self.wv.most_similar() instead).\n",
      "  import sys\n"
     ]
    }
   ],
   "source": [
    "word = '동물'\n",
    "\n",
    "print('100', model100.most_similar(positive=[word], topn=10), '\\n')\n",
    "print('200', model200.most_similar(positive=[word], topn=10), '\\n')\n",
    "print('300', model300.most_similar(positive=[word], topn=10), '\\n')\n",
    "print('400', model400.most_similar(positive=[word], topn=10), '\\n')\n",
    "print('500', model500.most_similar(positive=[word], topn=10), '\\n')"
   ]
  },
  {
   "cell_type": "code",
   "execution_count": 16,
   "metadata": {},
   "outputs": [
    {
     "name": "stdout",
     "output_type": "stream",
     "text": [
      "100 [('도리', 0.9031544923782349), ('열두달', 0.8858692646026611), ('만년', 0.8700524568557739), ('색연필', 0.8674761056900024), ('꼬미', 0.8657948970794678), ('치앙마이', 0.8651188015937805), ('야생화', 0.8589224815368652), ('커뮤니티', 0.8546535968780518), ('오천사', 0.8504619002342224), ('뱁새', 0.8490610718727112)] \n",
      "\n",
      "200 [('심야', 0.9112368226051331), ('열두달', 0.9064013957977295), ('색연필', 0.9033448100090027), ('팝업', 0.8995248079299927), ('오천사', 0.893791913986206), ('커뮤니티', 0.8926726579666138), ('만년', 0.8919573426246643), ('이름', 0.8903778195381165), ('로보', 0.8853435516357422), ('야생화', 0.8844736218452454)] \n",
      "\n",
      "300 [('도리', 0.9128015041351318), ('꼬미', 0.9048348069190979), ('안내서', 0.9020878672599792), ('홍익대학교', 0.8949211835861206), ('색연필', 0.8935645818710327), ('야생화', 0.8935394287109375), ('수채화', 0.8928167819976807), ('아프리카', 0.8924896717071533), ('만년', 0.8902794122695923), ('열두달', 0.8897709846496582)] \n",
      "\n",
      "400 [('심야', 0.9031578302383423), ('만년', 0.9011635780334473), ('꼬미', 0.896210253238678), ('도리', 0.8914397954940796), ('커뮤니티', 0.8890026807785034), ('열두달', 0.8880435228347778), ('팝업', 0.8869739770889282), ('로보', 0.8840603232383728), ('흔적', 0.8838411569595337), ('치앙마이', 0.8836364150047302)] \n",
      "\n",
      "500 [('커뮤니티', 0.907531201839447), ('만년', 0.9051928520202637), ('색연필', 0.9042272567749023), ('도리', 0.9016120433807373), ('안내서', 0.8957083225250244), ('팝업', 0.8939489126205444), ('가까이', 0.8932732343673706), ('열두달', 0.8916259407997131), ('치앙마이', 0.8904621005058289), ('꼬미', 0.8896439075469971)] \n",
      "\n"
     ]
    },
    {
     "name": "stderr",
     "output_type": "stream",
     "text": [
      "C:\\Users\\vivid\\Anaconda3\\envs\\test3\\lib\\site-packages\\ipykernel_launcher.py:3: DeprecationWarning: Call to deprecated `most_similar` (Method will be removed in 4.0.0, use self.wv.most_similar() instead).\n",
      "  This is separate from the ipykernel package so we can avoid doing imports until\n",
      "C:\\Users\\vivid\\Anaconda3\\envs\\test3\\lib\\site-packages\\ipykernel_launcher.py:4: DeprecationWarning: Call to deprecated `most_similar` (Method will be removed in 4.0.0, use self.wv.most_similar() instead).\n",
      "  after removing the cwd from sys.path.\n",
      "C:\\Users\\vivid\\Anaconda3\\envs\\test3\\lib\\site-packages\\ipykernel_launcher.py:5: DeprecationWarning: Call to deprecated `most_similar` (Method will be removed in 4.0.0, use self.wv.most_similar() instead).\n",
      "  \"\"\"\n",
      "C:\\Users\\vivid\\Anaconda3\\envs\\test3\\lib\\site-packages\\ipykernel_launcher.py:6: DeprecationWarning: Call to deprecated `most_similar` (Method will be removed in 4.0.0, use self.wv.most_similar() instead).\n",
      "  \n",
      "C:\\Users\\vivid\\Anaconda3\\envs\\test3\\lib\\site-packages\\ipykernel_launcher.py:7: DeprecationWarning: Call to deprecated `most_similar` (Method will be removed in 4.0.0, use self.wv.most_similar() instead).\n",
      "  import sys\n"
     ]
    }
   ],
   "source": [
    "word = '사진'\n",
    "\n",
    "print('100', model100.most_similar(positive=[word], topn=10), '\\n')\n",
    "print('200', model200.most_similar(positive=[word], topn=10), '\\n')\n",
    "print('300', model300.most_similar(positive=[word], topn=10), '\\n')\n",
    "print('400', model400.most_similar(positive=[word], topn=10), '\\n')\n",
    "print('500', model500.most_similar(positive=[word], topn=10), '\\n')"
   ]
  },
  {
   "cell_type": "code",
   "execution_count": 17,
   "metadata": {},
   "outputs": [
    {
     "name": "stdout",
     "output_type": "stream",
     "text": [
      "100 [('서로', 0.8660506010055542), ('시나리오', 0.8642549514770508), ('트라우마', 0.852596640586853), ('레코드', 0.8399534821510315), ('스페인', 0.8336726427078247), ('모리', 0.8317633271217346), ('크루아상', 0.8261942267417908), ('흔적', 0.82514488697052), ('클리셰', 0.8237393498420715), ('한편', 0.8225629925727844)] \n",
      "\n",
      "200 [('서로', 0.8842363953590393), ('레코드', 0.8830593228340149), ('시나리오', 0.8816139698028564), ('트라우마', 0.872585654258728), ('흔적', 0.8583704233169556), ('본격', 0.8561540842056274), ('프리즘', 0.8532145023345947), ('한편', 0.8531197309494019), ('가면', 0.8529214859008789), ('소망', 0.8524719476699829)] \n",
      "\n",
      "300 [('시나리오', 0.8907685875892639), ('서로', 0.8862361907958984), ('트라우마', 0.881373405456543), ('레코드', 0.8746506571769714), ('아티', 0.8686325550079346), ('어린왕자', 0.8655121326446533), ('야외', 0.8644245266914368), ('백구십칠', 0.8626610040664673), ('김승신', 0.8626123666763306), ('잡지', 0.8621417880058289)] \n",
      "\n",
      "400 [('시나리오', 0.8988714218139648), ('트라우마', 0.8917327523231506), ('흔적', 0.8893653750419617), ('레코드', 0.8891115188598633), ('서로', 0.8871358036994934), ('소망', 0.8789749145507812), ('프리즘', 0.8757520318031311), ('왕따', 0.8738890290260315), ('꼬', 0.8710927963256836), ('뮤직', 0.8699761033058167)] \n",
      "\n",
      "500 [('서로', 0.8832895159721375), ('트라우마', 0.8811781406402588), ('시나리오', 0.8809233903884888), ('레코드', 0.8690006732940674), ('연애담', 0.8646055459976196), ('꼬', 0.8632015585899353), ('클리셰', 0.8629723787307739), ('돌', 0.8617398738861084), ('아티', 0.8599865436553955), ('뮤직', 0.8592585921287537)] \n",
      "\n"
     ]
    },
    {
     "name": "stderr",
     "output_type": "stream",
     "text": [
      "C:\\Users\\vivid\\Anaconda3\\envs\\test3\\lib\\site-packages\\ipykernel_launcher.py:3: DeprecationWarning: Call to deprecated `most_similar` (Method will be removed in 4.0.0, use self.wv.most_similar() instead).\n",
      "  This is separate from the ipykernel package so we can avoid doing imports until\n",
      "C:\\Users\\vivid\\Anaconda3\\envs\\test3\\lib\\site-packages\\ipykernel_launcher.py:4: DeprecationWarning: Call to deprecated `most_similar` (Method will be removed in 4.0.0, use self.wv.most_similar() instead).\n",
      "  after removing the cwd from sys.path.\n",
      "C:\\Users\\vivid\\Anaconda3\\envs\\test3\\lib\\site-packages\\ipykernel_launcher.py:5: DeprecationWarning: Call to deprecated `most_similar` (Method will be removed in 4.0.0, use self.wv.most_similar() instead).\n",
      "  \"\"\"\n",
      "C:\\Users\\vivid\\Anaconda3\\envs\\test3\\lib\\site-packages\\ipykernel_launcher.py:6: DeprecationWarning: Call to deprecated `most_similar` (Method will be removed in 4.0.0, use self.wv.most_similar() instead).\n",
      "  \n",
      "C:\\Users\\vivid\\Anaconda3\\envs\\test3\\lib\\site-packages\\ipykernel_launcher.py:7: DeprecationWarning: Call to deprecated `most_similar` (Method will be removed in 4.0.0, use self.wv.most_similar() instead).\n",
      "  import sys\n"
     ]
    }
   ],
   "source": [
    "word = '영화'\n",
    "\n",
    "print('100', model100.most_similar(positive=[word], topn=10), '\\n')\n",
    "print('200', model200.most_similar(positive=[word], topn=10), '\\n')\n",
    "print('300', model300.most_similar(positive=[word], topn=10), '\\n')\n",
    "print('400', model400.most_similar(positive=[word], topn=10), '\\n')\n",
    "print('500', model500.most_similar(positive=[word], topn=10), '\\n')"
   ]
  },
  {
   "cell_type": "code",
   "execution_count": 18,
   "metadata": {},
   "outputs": [
    {
     "name": "stdout",
     "output_type": "stream",
     "text": [
      "100 [('스모크', 0.8682143688201904), ('텍사스', 0.8590565323829651), ('한우', 0.8537142276763916), ('채끝', 0.8188154697418213), ('등심', 0.8128057718276978), ('쥐포', 0.7832040786743164), ('닭다리', 0.7804282307624817), ('춘천', 0.7716329097747803), ('믿다', 0.7605949640274048), ('수트', 0.7603892087936401)] \n",
      "\n",
      "200 [('한우', 0.8869304060935974), ('스모크', 0.8834139108657837), ('텍사스', 0.8811469078063965), ('닭다리', 0.848055899143219), ('믿다', 0.8433859944343567), ('채끝', 0.8329803347587585), ('쫄깃', 0.8162098526954651), ('격식', 0.8106042146682739), ('등심', 0.8093234896659851), ('보충', 0.8086126446723938)] \n",
      "\n",
      "300 [('스모크', 0.8923027515411377), ('텍사스', 0.8869273066520691), ('닭다리', 0.8720090985298157), ('한우', 0.867823600769043), ('쫄깃', 0.8234566450119019), ('기력', 0.8167649507522583), ('채끝', 0.8151534795761108), ('크런치', 0.8134379386901855), ('에메랄드', 0.8130552768707275), ('수트', 0.8117213249206543)] \n",
      "\n",
      "400 [('텍사스', 0.8761805295944214), ('스모크', 0.8730378150939941), ('한우', 0.8528000116348267), ('닭다리', 0.848549485206604), ('기력', 0.8277363181114197), ('보충', 0.8276674151420593), ('채끝', 0.8263406753540039), ('쫄깃', 0.825487494468689), ('아시', 0.8191859722137451), ('민물장어', 0.8137260675430298)] \n",
      "\n",
      "500 [('스모크', 0.8782301545143127), ('텍사스', 0.870357871055603), ('한우', 0.86812824010849), ('닭다리', 0.853268563747406), ('보충', 0.8339293003082275), ('쫄깃', 0.8227856159210205), ('채끝', 0.8166251182556152), ('크런치', 0.8160985708236694), ('수트', 0.8137523531913757), ('기력', 0.8117423057556152)] \n",
      "\n"
     ]
    },
    {
     "name": "stderr",
     "output_type": "stream",
     "text": [
      "C:\\Users\\vivid\\Anaconda3\\envs\\test3\\lib\\site-packages\\ipykernel_launcher.py:3: DeprecationWarning: Call to deprecated `most_similar` (Method will be removed in 4.0.0, use self.wv.most_similar() instead).\n",
      "  This is separate from the ipykernel package so we can avoid doing imports until\n",
      "C:\\Users\\vivid\\Anaconda3\\envs\\test3\\lib\\site-packages\\ipykernel_launcher.py:4: DeprecationWarning: Call to deprecated `most_similar` (Method will be removed in 4.0.0, use self.wv.most_similar() instead).\n",
      "  after removing the cwd from sys.path.\n",
      "C:\\Users\\vivid\\Anaconda3\\envs\\test3\\lib\\site-packages\\ipykernel_launcher.py:5: DeprecationWarning: Call to deprecated `most_similar` (Method will be removed in 4.0.0, use self.wv.most_similar() instead).\n",
      "  \"\"\"\n",
      "C:\\Users\\vivid\\Anaconda3\\envs\\test3\\lib\\site-packages\\ipykernel_launcher.py:6: DeprecationWarning: Call to deprecated `most_similar` (Method will be removed in 4.0.0, use self.wv.most_similar() instead).\n",
      "  \n",
      "C:\\Users\\vivid\\Anaconda3\\envs\\test3\\lib\\site-packages\\ipykernel_launcher.py:7: DeprecationWarning: Call to deprecated `most_similar` (Method will be removed in 4.0.0, use self.wv.most_similar() instead).\n",
      "  import sys\n"
     ]
    }
   ],
   "source": [
    "#지금까지 봤을땐 size = 400이 가장 잘 나오는 듯\n",
    "word = '스테이크'\n",
    "\n",
    "print('100', model100.most_similar(positive=[word], topn=10), '\\n')\n",
    "print('200', model200.most_similar(positive=[word], topn=10), '\\n')\n",
    "print('300', model300.most_similar(positive=[word], topn=10), '\\n')\n",
    "print('400', model400.most_similar(positive=[word], topn=10), '\\n')\n",
    "print('500', model500.most_similar(positive=[word], topn=10), '\\n')"
   ]
  },
  {
   "cell_type": "code",
   "execution_count": 20,
   "metadata": {},
   "outputs": [
    {
     "name": "stdout",
     "output_type": "stream",
     "text": [
      "100 [('대용', 0.94594806432724), ('랩스', 0.9308370351791382), ('따로', 0.930185079574585), ('클렌징밤', 0.9262064695358276), ('패스', 0.9256422519683838), ('종아리', 0.9254961609840393), ('아미노산', 0.925325870513916), ('원적외선', 0.9220662117004395), ('식사', 0.9206770658493042), ('분장', 0.9156849384307861)] \n",
      "\n",
      "200 [('대용', 0.9586019515991211), ('랩스', 0.9461269378662109), ('패스', 0.9452806711196899), ('따로', 0.9442113637924194), ('종아리', 0.9373268485069275), ('빅데이터', 0.9351296424865723), ('아미노산', 0.9344608187675476), ('근육통', 0.9256786704063416), ('퓨레', 0.924942672252655), ('원적외선', 0.9247448444366455)] \n",
      "\n",
      "300 [('대용', 0.9603971838951111), ('아미노산', 0.9447164535522461), ('따로', 0.9407322406768799), ('빅데이터', 0.9387450218200684), ('랩스', 0.938479483127594), ('베이', 0.9370865225791931), ('청과', 0.9322459697723389), ('맞이', 0.9304545521736145), ('종아리', 0.9297612905502319), ('식사', 0.9271693825721741)] \n",
      "\n",
      "400 [('대용', 0.9568101167678833), ('빅데이터', 0.9525027275085449), ('따로', 0.9481887221336365), ('랩스', 0.9473581314086914), ('아미노산', 0.9394389390945435), ('신선하다', 0.939056396484375), ('패스', 0.938055157661438), ('딤섬', 0.9376348257064819), ('화려하다', 0.9353775978088379), ('클렌징밤', 0.9302523136138916)] \n",
      "\n",
      "500 [('대용', 0.9658318758010864), ('패스', 0.9451850056648254), ('랩스', 0.9446367621421814), ('따로', 0.9445706605911255), ('종아리', 0.931903064250946), ('빅데이터', 0.9317882061004639), ('아미노산', 0.9250893592834473), ('식사', 0.9228426218032837), ('핵', 0.9227262735366821), ('부차', 0.9225648641586304)] \n",
      "\n"
     ]
    },
    {
     "name": "stderr",
     "output_type": "stream",
     "text": [
      "C:\\Users\\vivid\\Anaconda3\\envs\\test3\\lib\\site-packages\\ipykernel_launcher.py:3: DeprecationWarning: Call to deprecated `most_similar` (Method will be removed in 4.0.0, use self.wv.most_similar() instead).\n",
      "  This is separate from the ipykernel package so we can avoid doing imports until\n",
      "C:\\Users\\vivid\\Anaconda3\\envs\\test3\\lib\\site-packages\\ipykernel_launcher.py:4: DeprecationWarning: Call to deprecated `most_similar` (Method will be removed in 4.0.0, use self.wv.most_similar() instead).\n",
      "  after removing the cwd from sys.path.\n",
      "C:\\Users\\vivid\\Anaconda3\\envs\\test3\\lib\\site-packages\\ipykernel_launcher.py:5: DeprecationWarning: Call to deprecated `most_similar` (Method will be removed in 4.0.0, use self.wv.most_similar() instead).\n",
      "  \"\"\"\n",
      "C:\\Users\\vivid\\Anaconda3\\envs\\test3\\lib\\site-packages\\ipykernel_launcher.py:6: DeprecationWarning: Call to deprecated `most_similar` (Method will be removed in 4.0.0, use self.wv.most_similar() instead).\n",
      "  \n",
      "C:\\Users\\vivid\\Anaconda3\\envs\\test3\\lib\\site-packages\\ipykernel_launcher.py:7: DeprecationWarning: Call to deprecated `most_similar` (Method will be removed in 4.0.0, use self.wv.most_similar() instead).\n",
      "  import sys\n"
     ]
    }
   ],
   "source": [
    "word = '음료'\n",
    "\n",
    "print('100', model100.most_similar(positive=[word], topn=10), '\\n')\n",
    "print('200', model200.most_similar(positive=[word], topn=10), '\\n')\n",
    "print('300', model300.most_similar(positive=[word], topn=10), '\\n')\n",
    "print('400', model400.most_similar(positive=[word], topn=10), '\\n')\n",
    "print('500', model500.most_similar(positive=[word], topn=10), '\\n')"
   ]
  },
  {
   "cell_type": "code",
   "execution_count": 21,
   "metadata": {},
   "outputs": [
    {
     "name": "stdout",
     "output_type": "stream",
     "text": [
      "100 [('실험실', 0.9352449178695679), ('스케치업', 0.933242917060852), ('왕궁', 0.9331942200660706), ('복합', 0.9312542676925659), ('배경', 0.9293526411056519), ('중소', 0.9289525747299194), ('세렌', 0.9272391200065613), ('Set', 0.9241611957550049), ('테헤란로', 0.9224348068237305), ('무협', 0.9175525307655334)] \n",
      "\n",
      "200 [('배경', 0.9417704343795776), ('스케치업', 0.9341878890991211), ('왕궁', 0.9210797548294067), ('무협', 0.9204128980636597), ('실험실', 0.9194883108139038), ('아파트', 0.9188692569732666), ('사극', 0.9178766012191772), ('세렌', 0.9155051708221436), ('테헤란로', 0.9135850667953491), ('해안', 0.911576509475708)] \n",
      "\n",
      "300 [('배경', 0.9361535310745239), ('스케치업', 0.9332448244094849), ('주택', 0.9330077171325684), ('아파트', 0.9302982091903687), ('Set', 0.9299676418304443), ('왕궁', 0.9295046329498291), ('방송국', 0.9293256998062134), ('해안', 0.9260220527648926), ('복합', 0.9253911972045898), ('중소', 0.9252978563308716)] \n",
      "\n",
      "400 [('배경', 0.9451338052749634), ('스케치업', 0.9446865916252136), ('테헤란로', 0.933113694190979), ('무협', 0.932532548904419), ('사극', 0.9266775846481323), ('Set', 0.9257237315177917), ('왕궁', 0.9233150482177734), ('해안', 0.923210620880127), ('저택', 0.918192982673645), ('세렌', 0.9168355464935303)] \n",
      "\n",
      "500 [('배경', 0.9421390891075134), ('스케치업', 0.9408746361732483), ('왕궁', 0.9350998401641846), ('복합', 0.9287998676300049), ('방송국', 0.9239097237586975), ('실험실', 0.9232146143913269), ('무협', 0.9221630096435547), ('Set', 0.921599268913269), ('테헤란로', 0.9200236201286316), ('세렌', 0.9187368154525757)] \n",
      "\n"
     ]
    },
    {
     "name": "stderr",
     "output_type": "stream",
     "text": [
      "C:\\Users\\vivid\\Anaconda3\\envs\\test3\\lib\\site-packages\\ipykernel_launcher.py:3: DeprecationWarning: Call to deprecated `most_similar` (Method will be removed in 4.0.0, use self.wv.most_similar() instead).\n",
      "  This is separate from the ipykernel package so we can avoid doing imports until\n",
      "C:\\Users\\vivid\\Anaconda3\\envs\\test3\\lib\\site-packages\\ipykernel_launcher.py:4: DeprecationWarning: Call to deprecated `most_similar` (Method will be removed in 4.0.0, use self.wv.most_similar() instead).\n",
      "  after removing the cwd from sys.path.\n",
      "C:\\Users\\vivid\\Anaconda3\\envs\\test3\\lib\\site-packages\\ipykernel_launcher.py:5: DeprecationWarning: Call to deprecated `most_similar` (Method will be removed in 4.0.0, use self.wv.most_similar() instead).\n",
      "  \"\"\"\n",
      "C:\\Users\\vivid\\Anaconda3\\envs\\test3\\lib\\site-packages\\ipykernel_launcher.py:6: DeprecationWarning: Call to deprecated `most_similar` (Method will be removed in 4.0.0, use self.wv.most_similar() instead).\n",
      "  \n",
      "C:\\Users\\vivid\\Anaconda3\\envs\\test3\\lib\\site-packages\\ipykernel_launcher.py:7: DeprecationWarning: Call to deprecated `most_similar` (Method will be removed in 4.0.0, use self.wv.most_similar() instead).\n",
      "  import sys\n"
     ]
    }
   ],
   "source": [
    "#size 300에서만 고유명사 빠짐.\n",
    "word = '웹툰'\n",
    "\n",
    "print('100', model100.most_similar(positive=[word], topn=10), '\\n')\n",
    "print('200', model200.most_similar(positive=[word], topn=10), '\\n')\n",
    "print('300', model300.most_similar(positive=[word], topn=10), '\\n')\n",
    "print('400', model400.most_similar(positive=[word], topn=10), '\\n')\n",
    "print('500', model500.most_similar(positive=[word], topn=10), '\\n')"
   ]
  },
  {
   "cell_type": "code",
   "execution_count": 22,
   "metadata": {},
   "outputs": [
    {
     "name": "stdout",
     "output_type": "stream",
     "text": [
      "100 [('팝업', 0.8600244522094727), ('이름', 0.850568950176239), ('행복하다', 0.8493406176567078), ('심야', 0.8336852788925171), ('만년', 0.830696702003479), ('포토', 0.8275398015975952), ('발간', 0.8233175277709961), ('퇴근', 0.8230241537094116), ('사색', 0.8220888376235962), ('멸종위기', 0.8213542699813843)] \n",
      "\n",
      "200 [('이름', 0.8897124528884888), ('위인', 0.8884719610214233), ('만년', 0.8643900156021118), ('오브', 0.8630765676498413), ('행복하다', 0.8562618494033813), ('팝업', 0.8554560542106628), ('복식', 0.8546188473701477), ('수집', 0.8504361510276794), ('사진', 0.8498212099075317), ('아트', 0.8493230938911438)] \n",
      "\n",
      "300 [('공존', 0.8653228878974915), ('팝업', 0.8641402125358582), ('이름', 0.863678514957428), ('복식', 0.8634112477302551), ('행복하다', 0.8616520166397095), ('공감', 0.8603743314743042), ('존재', 0.8580333590507507), ('파도', 0.8575277328491211), ('두번째', 0.8561519384384155), ('플랫포머', 0.8551212549209595)] \n",
      "\n",
      "400 [('로보', 0.8674494028091431), ('이름', 0.8657745122909546), ('아카이브', 0.8594967126846313), ('심야', 0.8584831953048706), ('공감', 0.8583323955535889), ('오브', 0.8569420576095581), ('공존', 0.8553928136825562), ('사진', 0.854600191116333), ('카드게임', 0.8544685244560242), ('두번째', 0.8501101732254028)] \n",
      "\n",
      "500 [('이름', 0.8919382095336914), ('팝업', 0.8827545642852783), ('만년', 0.8805077075958252), ('심야', 0.8719993233680725), ('행복하다', 0.8695918321609497), ('유기동물', 0.8685388565063477), ('복식', 0.8644928336143494), ('색연필', 0.8635782599449158), ('커뮤니티', 0.8560256958007812), ('잡지', 0.8509371280670166)] \n",
      "\n"
     ]
    },
    {
     "name": "stderr",
     "output_type": "stream",
     "text": [
      "C:\\Users\\vivid\\Anaconda3\\envs\\test3\\lib\\site-packages\\ipykernel_launcher.py:3: DeprecationWarning: Call to deprecated `most_similar` (Method will be removed in 4.0.0, use self.wv.most_similar() instead).\n",
      "  This is separate from the ipykernel package so we can avoid doing imports until\n",
      "C:\\Users\\vivid\\Anaconda3\\envs\\test3\\lib\\site-packages\\ipykernel_launcher.py:4: DeprecationWarning: Call to deprecated `most_similar` (Method will be removed in 4.0.0, use self.wv.most_similar() instead).\n",
      "  after removing the cwd from sys.path.\n",
      "C:\\Users\\vivid\\Anaconda3\\envs\\test3\\lib\\site-packages\\ipykernel_launcher.py:5: DeprecationWarning: Call to deprecated `most_similar` (Method will be removed in 4.0.0, use self.wv.most_similar() instead).\n",
      "  \"\"\"\n",
      "C:\\Users\\vivid\\Anaconda3\\envs\\test3\\lib\\site-packages\\ipykernel_launcher.py:6: DeprecationWarning: Call to deprecated `most_similar` (Method will be removed in 4.0.0, use self.wv.most_similar() instead).\n",
      "  \n",
      "C:\\Users\\vivid\\Anaconda3\\envs\\test3\\lib\\site-packages\\ipykernel_launcher.py:7: DeprecationWarning: Call to deprecated `most_similar` (Method will be removed in 4.0.0, use self.wv.most_similar() instead).\n",
      "  import sys\n"
     ]
    }
   ],
   "source": [
    "word = '동물'\n",
    "\n",
    "print('100', model100.most_similar(positive=[word], topn=10), '\\n')\n",
    "print('200', model200.most_similar(positive=[word], topn=10), '\\n')\n",
    "print('300', model300.most_similar(positive=[word], topn=10), '\\n')\n",
    "print('400', model400.most_similar(positive=[word], topn=10), '\\n')\n",
    "print('500', model500.most_similar(positive=[word], topn=10), '\\n')"
   ]
  },
  {
   "cell_type": "code",
   "execution_count": 23,
   "metadata": {},
   "outputs": [
    {
     "name": "stdout",
     "output_type": "stream",
     "text": [
      "100 [('교실', 0.903348445892334), ('미투', 0.8982415199279785), ('마법사', 0.8922985792160034), ('창고', 0.8834455609321594), ('환생', 0.8756338357925415), ('컨테이너', 0.8723859786987305), ('엘리펀트', 0.8722751140594482), ('정규앨범', 0.8721827268600464), ('졸업', 0.8718938827514648), ('천체관측', 0.8710154294967651)] \n",
      "\n",
      "200 [('창고', 0.938254714012146), ('컨테이너', 0.9344815015792847), ('천체관측', 0.934005856513977), ('외부', 0.9329183101654053), ('마법사', 0.9312978982925415), ('역삼', 0.9305111169815063), ('미투', 0.9269589185714722), ('우울', 0.926232099533081), ('폐', 0.9260843992233276), ('학도', 0.924946665763855)] \n",
      "\n",
      "300 [('우울', 0.9269206523895264), ('마법사', 0.9230908155441284), ('외부', 0.9190718531608582), ('창고', 0.9182576537132263), ('환생', 0.9160209894180298), ('미투', 0.9159676432609558), ('역삼', 0.9151458144187927), ('천체관측', 0.9136532545089722), ('교실', 0.9083036184310913), ('지하도', 0.9079415798187256)] \n",
      "\n",
      "400 [('마법사', 0.9229603409767151), ('창고', 0.9213072061538696), ('미투', 0.9194058775901794), ('우울', 0.9175630807876587), ('교실', 0.9149786233901978), ('천체관측', 0.9129312634468079), ('지하도', 0.9119799137115479), ('일레븐', 0.9114518165588379), ('역삼', 0.911121129989624), ('외부', 0.9084321856498718)] \n",
      "\n",
      "500 [('미투', 0.9308897256851196), ('마법사', 0.9184085130691528), ('역삼', 0.9181404113769531), ('창고', 0.9179577231407166), ('교실', 0.9132047891616821), ('우울', 0.9121110439300537), ('엘리펀트', 0.910495400428772), ('정규앨범', 0.9096192717552185), ('졸업', 0.908725380897522), ('외부', 0.907329797744751)] \n",
      "\n"
     ]
    },
    {
     "name": "stderr",
     "output_type": "stream",
     "text": [
      "C:\\Users\\vivid\\Anaconda3\\envs\\test3\\lib\\site-packages\\ipykernel_launcher.py:3: DeprecationWarning: Call to deprecated `most_similar` (Method will be removed in 4.0.0, use self.wv.most_similar() instead).\n",
      "  This is separate from the ipykernel package so we can avoid doing imports until\n",
      "C:\\Users\\vivid\\Anaconda3\\envs\\test3\\lib\\site-packages\\ipykernel_launcher.py:4: DeprecationWarning: Call to deprecated `most_similar` (Method will be removed in 4.0.0, use self.wv.most_similar() instead).\n",
      "  after removing the cwd from sys.path.\n",
      "C:\\Users\\vivid\\Anaconda3\\envs\\test3\\lib\\site-packages\\ipykernel_launcher.py:5: DeprecationWarning: Call to deprecated `most_similar` (Method will be removed in 4.0.0, use self.wv.most_similar() instead).\n",
      "  \"\"\"\n",
      "C:\\Users\\vivid\\Anaconda3\\envs\\test3\\lib\\site-packages\\ipykernel_launcher.py:6: DeprecationWarning: Call to deprecated `most_similar` (Method will be removed in 4.0.0, use self.wv.most_similar() instead).\n",
      "  \n",
      "C:\\Users\\vivid\\Anaconda3\\envs\\test3\\lib\\site-packages\\ipykernel_launcher.py:7: DeprecationWarning: Call to deprecated `most_similar` (Method will be removed in 4.0.0, use self.wv.most_similar() instead).\n",
      "  import sys\n"
     ]
    }
   ],
   "source": [
    "word = '학교'\n",
    "\n",
    "print('100', model100.most_similar(positive=[word], topn=10), '\\n')\n",
    "print('200', model200.most_similar(positive=[word], topn=10), '\\n')\n",
    "print('300', model300.most_similar(positive=[word], topn=10), '\\n')\n",
    "print('400', model400.most_similar(positive=[word], topn=10), '\\n')\n",
    "print('500', model500.most_similar(positive=[word], topn=10), '\\n')"
   ]
  },
  {
   "cell_type": "code",
   "execution_count": 24,
   "metadata": {},
   "outputs": [
    {
     "name": "stdout",
     "output_type": "stream",
     "text": [
      "100 [('물의', 0.8327568769454956), ('북극곰', 0.8117656707763672), ('조각', 0.8113638162612915), ('이상하다', 0.8105195164680481), ('니스', 0.8032604455947876), ('공장', 0.8024485111236572), ('십장생', 0.8009524345397949), ('만년', 0.796785295009613), ('수집', 0.7952241897583008), ('이름', 0.7925029397010803)] \n",
      "\n",
      "200 [('물의', 0.8806467652320862), ('이름', 0.8750845193862915), ('흔적', 0.857347309589386), ('만년', 0.8573452234268188), ('조각', 0.8519768714904785), ('베이지', 0.849231481552124), ('최적화', 0.8489789366722107), ('프랑켄슈타인', 0.8488837480545044), ('안부', 0.8477855920791626), ('질감', 0.847712516784668)] \n",
      "\n",
      "300 [('조각', 0.86399245262146), ('물의', 0.8494736552238464), ('니스', 0.8482706546783447), ('이름', 0.8411482572555542), ('북극곰', 0.8406583070755005), ('도검', 0.8352347612380981), ('가까이', 0.8341662883758545), ('싱글맘', 0.832493782043457), ('베이지', 0.8323619365692139), ('십장생', 0.8321118354797363)] \n",
      "\n",
      "400 [('이름', 0.860163688659668), ('북극곰', 0.8564962148666382), ('수집', 0.8503773808479309), ('물의', 0.8490257859230042), ('조각', 0.8483337163925171), ('기도', 0.8458903431892395), ('니스', 0.8450604677200317), ('만년', 0.8422530889511108), ('최적화', 0.8404412269592285), ('여', 0.8387848138809204)] \n",
      "\n",
      "500 [('물의', 0.8737539052963257), ('십장생', 0.8605256080627441), ('기도', 0.8515030145645142), ('이름', 0.8507804870605469), ('질감', 0.8471657037734985), ('수집', 0.8462551832199097), ('안부', 0.8437470197677612), ('예술', 0.8402153253555298), ('소년', 0.8394418358802795), ('프랑켄슈타인', 0.8369673490524292)] \n",
      "\n"
     ]
    },
    {
     "name": "stderr",
     "output_type": "stream",
     "text": [
      "C:\\Users\\vivid\\Anaconda3\\envs\\test3\\lib\\site-packages\\ipykernel_launcher.py:3: DeprecationWarning: Call to deprecated `most_similar` (Method will be removed in 4.0.0, use self.wv.most_similar() instead).\n",
      "  This is separate from the ipykernel package so we can avoid doing imports until\n",
      "C:\\Users\\vivid\\Anaconda3\\envs\\test3\\lib\\site-packages\\ipykernel_launcher.py:4: DeprecationWarning: Call to deprecated `most_similar` (Method will be removed in 4.0.0, use self.wv.most_similar() instead).\n",
      "  after removing the cwd from sys.path.\n",
      "C:\\Users\\vivid\\Anaconda3\\envs\\test3\\lib\\site-packages\\ipykernel_launcher.py:5: DeprecationWarning: Call to deprecated `most_similar` (Method will be removed in 4.0.0, use self.wv.most_similar() instead).\n",
      "  \"\"\"\n",
      "C:\\Users\\vivid\\Anaconda3\\envs\\test3\\lib\\site-packages\\ipykernel_launcher.py:6: DeprecationWarning: Call to deprecated `most_similar` (Method will be removed in 4.0.0, use self.wv.most_similar() instead).\n",
      "  \n",
      "C:\\Users\\vivid\\Anaconda3\\envs\\test3\\lib\\site-packages\\ipykernel_launcher.py:7: DeprecationWarning: Call to deprecated `most_similar` (Method will be removed in 4.0.0, use self.wv.most_similar() instead).\n",
      "  import sys\n"
     ]
    }
   ],
   "source": [
    "word = '책'\n",
    "\n",
    "print('100', model100.most_similar(positive=[word], topn=10), '\\n')\n",
    "print('200', model200.most_similar(positive=[word], topn=10), '\\n')\n",
    "print('300', model300.most_similar(positive=[word], topn=10), '\\n')\n",
    "print('400', model400.most_similar(positive=[word], topn=10), '\\n')\n",
    "print('500', model500.most_similar(positive=[word], topn=10), '\\n')"
   ]
  },
  {
   "cell_type": "code",
   "execution_count": 25,
   "metadata": {},
   "outputs": [
    {
     "name": "stdout",
     "output_type": "stream",
     "text": [
      "100 [('유기동물', 0.7961243391036987), ('영원하다', 0.7652374505996704), ('샤이닝', 0.7576149702072144), ('유령', 0.7527632713317871), ('동의', 0.7491055727005005), ('북극곰', 0.7429752945899963), ('안동', 0.74288010597229), ('프렌즈', 0.7404540777206421), ('피카', 0.7393411993980408), ('해주다', 0.7388259768486023)] \n",
      "\n",
      "200 [('유기동물', 0.8003966808319092), ('만난', 0.7969086766242981), ('꽃', 0.7864598035812378), ('할머니', 0.7847716808319092), ('영원하다', 0.7761293649673462), ('온기', 0.7741608023643494), ('잡지', 0.7713925838470459), ('초유기체', 0.7705684900283813), ('전하', 0.7704149484634399), ('맨션', 0.7676920294761658)] \n",
      "\n",
      "300 [('유기동물', 0.8149371147155762), ('실버', 0.7896597385406494), ('유령', 0.7893710136413574), ('할머니', 0.7885417938232422), ('입체', 0.785845160484314), ('동의', 0.7817339897155762), ('온기', 0.7800348997116089), ('영원하다', 0.7781153321266174), ('달', 0.7778283953666687), ('해주다', 0.7770217657089233)] \n",
      "\n",
      "400 [('꽃', 0.8065401911735535), ('유기동물', 0.8061457276344299), ('잡지', 0.7989732027053833), ('만난', 0.7961230278015137), ('실버', 0.7869448065757751), ('영원하다', 0.7768983840942383), ('프렌즈', 0.7767885327339172), ('맨션', 0.772590160369873), ('온기', 0.7713984847068787), ('배트맨', 0.7678910493850708)] \n",
      "\n",
      "500 [('꽃', 0.8153471350669861), ('유기동물', 0.8061273694038391), ('잡지', 0.7993349432945251), ('영원하다', 0.7928805351257324), ('피카', 0.7879164218902588), ('실버', 0.7871533632278442), ('샤이닝', 0.7853536009788513), ('핀', 0.7845406532287598), ('만난', 0.7835437059402466), ('온기', 0.7835049629211426)] \n",
      "\n"
     ]
    },
    {
     "name": "stderr",
     "output_type": "stream",
     "text": [
      "C:\\Users\\vivid\\Anaconda3\\envs\\test3\\lib\\site-packages\\ipykernel_launcher.py:3: DeprecationWarning: Call to deprecated `most_similar` (Method will be removed in 4.0.0, use self.wv.most_similar() instead).\n",
      "  This is separate from the ipykernel package so we can avoid doing imports until\n",
      "C:\\Users\\vivid\\Anaconda3\\envs\\test3\\lib\\site-packages\\ipykernel_launcher.py:4: DeprecationWarning: Call to deprecated `most_similar` (Method will be removed in 4.0.0, use self.wv.most_similar() instead).\n",
      "  after removing the cwd from sys.path.\n",
      "C:\\Users\\vivid\\Anaconda3\\envs\\test3\\lib\\site-packages\\ipykernel_launcher.py:5: DeprecationWarning: Call to deprecated `most_similar` (Method will be removed in 4.0.0, use self.wv.most_similar() instead).\n",
      "  \"\"\"\n",
      "C:\\Users\\vivid\\Anaconda3\\envs\\test3\\lib\\site-packages\\ipykernel_launcher.py:6: DeprecationWarning: Call to deprecated `most_similar` (Method will be removed in 4.0.0, use self.wv.most_similar() instead).\n",
      "  \n",
      "C:\\Users\\vivid\\Anaconda3\\envs\\test3\\lib\\site-packages\\ipykernel_launcher.py:7: DeprecationWarning: Call to deprecated `most_similar` (Method will be removed in 4.0.0, use self.wv.most_similar() instead).\n",
      "  import sys\n"
     ]
    }
   ],
   "source": [
    "#size 100, 200은 별로\n",
    "word = '사랑'\n",
    "\n",
    "print('100', model100.most_similar(positive=[word], topn=10), '\\n')\n",
    "print('200', model200.most_similar(positive=[word], topn=10), '\\n')\n",
    "print('300', model300.most_similar(positive=[word], topn=10), '\\n')\n",
    "print('400', model400.most_similar(positive=[word], topn=10), '\\n')\n",
    "print('500', model500.most_similar(positive=[word], topn=10), '\\n')"
   ]
  },
  {
   "cell_type": "code",
   "execution_count": 26,
   "metadata": {},
   "outputs": [
    {
     "name": "stdout",
     "output_type": "stream",
     "text": [
      "100 [('진공', 0.8660391569137573), ('물걸레', 0.8428677320480347), ('IN', 0.8385524749755859), ('진공청소기', 0.8309468030929565), ('파나소닉', 0.8255413770675659), ('청소기', 0.8220248222351074), ('공개', 0.8069753646850586), ('벤투스', 0.8066842555999756), ('오물', 0.7794781923294067), ('구도', 0.7773813009262085)] \n",
      "\n",
      "200 [('진공청소기', 0.8761204481124878), ('물걸레', 0.8727999925613403), ('진공', 0.8725235462188721), ('IN', 0.8664252161979675), ('청소기', 0.860358715057373), ('파나소닉', 0.8562427759170532), ('벤투스', 0.8406635522842407), ('걸레질', 0.8315507769584656), ('공개', 0.821860671043396), ('오물', 0.8143682479858398)] \n",
      "\n",
      "300 [('IN', 0.870302677154541), ('진공청소기', 0.8620618581771851), ('청소기', 0.8433432579040527), ('파나소닉', 0.8429752588272095), ('물걸레', 0.8317028284072876), ('진공', 0.8300827741622925), ('벤투스', 0.828083336353302), ('공개', 0.8194490075111389), ('걸레질', 0.8088504076004028), ('오물', 0.7972421646118164)] \n",
      "\n",
      "400 [('진공', 0.8427591323852539), ('파나소닉', 0.8391206860542297), ('IN', 0.8385745286941528), ('물걸레', 0.8290830850601196), ('진공청소기', 0.8244419693946838), ('청소기', 0.8159316778182983), ('공개', 0.7994940876960754), ('구도', 0.7964707612991333), ('걸레질', 0.7957048416137695), ('먹음', 0.7938165664672852)] \n",
      "\n",
      "500 [('IN', 0.8498982191085815), ('파나소닉', 0.8413328528404236), ('청소기', 0.8395191431045532), ('진공', 0.8246937990188599), ('벤투스', 0.8231285214424133), ('진공청소기', 0.8184688091278076), ('물걸레', 0.8117954730987549), ('장착', 0.8093018531799316), ('먹음', 0.798730194568634), ('걸레질', 0.7961198091506958)] \n",
      "\n"
     ]
    },
    {
     "name": "stderr",
     "output_type": "stream",
     "text": [
      "C:\\Users\\vivid\\Anaconda3\\envs\\test3\\lib\\site-packages\\ipykernel_launcher.py:3: DeprecationWarning: Call to deprecated `most_similar` (Method will be removed in 4.0.0, use self.wv.most_similar() instead).\n",
      "  This is separate from the ipykernel package so we can avoid doing imports until\n",
      "C:\\Users\\vivid\\Anaconda3\\envs\\test3\\lib\\site-packages\\ipykernel_launcher.py:4: DeprecationWarning: Call to deprecated `most_similar` (Method will be removed in 4.0.0, use self.wv.most_similar() instead).\n",
      "  after removing the cwd from sys.path.\n",
      "C:\\Users\\vivid\\Anaconda3\\envs\\test3\\lib\\site-packages\\ipykernel_launcher.py:5: DeprecationWarning: Call to deprecated `most_similar` (Method will be removed in 4.0.0, use self.wv.most_similar() instead).\n",
      "  \"\"\"\n",
      "C:\\Users\\vivid\\Anaconda3\\envs\\test3\\lib\\site-packages\\ipykernel_launcher.py:6: DeprecationWarning: Call to deprecated `most_similar` (Method will be removed in 4.0.0, use self.wv.most_similar() instead).\n",
      "  \n",
      "C:\\Users\\vivid\\Anaconda3\\envs\\test3\\lib\\site-packages\\ipykernel_launcher.py:7: DeprecationWarning: Call to deprecated `most_similar` (Method will be removed in 4.0.0, use self.wv.most_similar() instead).\n",
      "  import sys\n"
     ]
    }
   ],
   "source": [
    "word = '청소'\n",
    "\n",
    "print('100', model100.most_similar(positive=[word], topn=10), '\\n')\n",
    "print('200', model200.most_similar(positive=[word], topn=10), '\\n')\n",
    "print('300', model300.most_similar(positive=[word], topn=10), '\\n')\n",
    "print('400', model400.most_similar(positive=[word], topn=10), '\\n')\n",
    "print('500', model500.most_similar(positive=[word], topn=10), '\\n')"
   ]
  },
  {
   "cell_type": "code",
   "execution_count": 27,
   "metadata": {},
   "outputs": [
    {
     "name": "stdout",
     "output_type": "stream",
     "text": [
      "100 [('KODUA', 0.811019778251648), ('토트', 0.8084554672241211), ('백', 0.805235743522644), ('크로스', 0.7922768592834473), ('오오', 0.7878494262695312), ('보조', 0.7876303791999817), ('보스턴', 0.7856475114822388), ('스크래치', 0.7852226495742798), ('부장', 0.7792148590087891), ('모드', 0.7780040502548218)] \n",
      "\n",
      "200 [('토트', 0.8438783884048462), ('KODUA', 0.8338397741317749), ('백', 0.8241227865219116), ('보조', 0.8122300505638123), ('보스턴', 0.809310793876648), ('크로스', 0.8061929941177368), ('티디', 0.8048865795135498), ('오오', 0.803798496723175), ('모드', 0.7978869676589966), ('왁스', 0.7937642335891724)] \n",
      "\n",
      "300 [('토트', 0.8307287693023682), ('KODUA', 0.8167624473571777), ('백', 0.8129092454910278), ('크로스', 0.810065746307373), ('보스턴', 0.7959190607070923), ('변신', 0.7901595830917358), ('보조', 0.7861614227294922), ('오오', 0.7854323387145996), ('윈저', 0.7817709445953369), ('전혀', 0.7790414094924927)] \n",
      "\n",
      "400 [('KODUA', 0.8308708071708679), ('토트', 0.8297586441040039), ('백', 0.8131744861602783), ('크로스', 0.8111544251441956), ('보조', 0.810862123966217), ('보스턴', 0.8067002892494202), ('스크래치', 0.8025239706039429), ('변신', 0.8020734190940857), ('이쁘다', 0.7996529340744019), ('몽', 0.7932868599891663)] \n",
      "\n",
      "500 [('KODUA', 0.8429203033447266), ('토트', 0.8346703052520752), ('보스턴', 0.8152128458023071), ('변신', 0.8147358894348145), ('크로스', 0.8122682571411133), ('전혀', 0.804280161857605), ('오오', 0.8037220239639282), ('보조', 0.7973843216896057), ('앞판', 0.7948867082595825), ('백', 0.7922389507293701)] \n",
      "\n"
     ]
    },
    {
     "name": "stderr",
     "output_type": "stream",
     "text": [
      "C:\\Users\\vivid\\Anaconda3\\envs\\test3\\lib\\site-packages\\ipykernel_launcher.py:3: DeprecationWarning: Call to deprecated `most_similar` (Method will be removed in 4.0.0, use self.wv.most_similar() instead).\n",
      "  This is separate from the ipykernel package so we can avoid doing imports until\n",
      "C:\\Users\\vivid\\Anaconda3\\envs\\test3\\lib\\site-packages\\ipykernel_launcher.py:4: DeprecationWarning: Call to deprecated `most_similar` (Method will be removed in 4.0.0, use self.wv.most_similar() instead).\n",
      "  after removing the cwd from sys.path.\n",
      "C:\\Users\\vivid\\Anaconda3\\envs\\test3\\lib\\site-packages\\ipykernel_launcher.py:5: DeprecationWarning: Call to deprecated `most_similar` (Method will be removed in 4.0.0, use self.wv.most_similar() instead).\n",
      "  \"\"\"\n",
      "C:\\Users\\vivid\\Anaconda3\\envs\\test3\\lib\\site-packages\\ipykernel_launcher.py:6: DeprecationWarning: Call to deprecated `most_similar` (Method will be removed in 4.0.0, use self.wv.most_similar() instead).\n",
      "  \n",
      "C:\\Users\\vivid\\Anaconda3\\envs\\test3\\lib\\site-packages\\ipykernel_launcher.py:7: DeprecationWarning: Call to deprecated `most_similar` (Method will be removed in 4.0.0, use self.wv.most_similar() instead).\n",
      "  import sys\n"
     ]
    }
   ],
   "source": [
    "word = '가방'\n",
    "\n",
    "print('100', model100.most_similar(positive=[word], topn=10), '\\n')\n",
    "print('200', model200.most_similar(positive=[word], topn=10), '\\n')\n",
    "print('300', model300.most_similar(positive=[word], topn=10), '\\n')\n",
    "print('400', model400.most_similar(positive=[word], topn=10), '\\n')\n",
    "print('500', model500.most_similar(positive=[word], topn=10), '\\n')"
   ]
  },
  {
   "cell_type": "code",
   "execution_count": 28,
   "metadata": {},
   "outputs": [
    {
     "name": "stdout",
     "output_type": "stream",
     "text": [
      "100 [('모찌', 0.8965960144996643), ('파댕', 0.8418611288070679), ('키위새', 0.8047604560852051), ('꼬부기', 0.798517107963562), ('뚱', 0.796390175819397), ('멍청새', 0.7956936955451965), ('납작', 0.795485258102417), ('미니미', 0.7840878963470459), ('제일', 0.7836878299713135), ('썸캣', 0.7724142670631409)] \n",
      "\n",
      "200 [('모찌', 0.9110834002494812), ('파댕', 0.8480591177940369), ('핑미핑미업', 0.825557291507721), ('뚱', 0.8218181133270264), ('멍청새', 0.8187324404716492), ('키위새', 0.81560218334198), ('그리스', 0.8091357946395874), ('썸캣', 0.8088881969451904), ('납작', 0.807762086391449), ('해달', 0.8058026432991028)] \n",
      "\n",
      "300 [('모찌', 0.9308236837387085), ('파댕', 0.8427003622055054), ('뚱', 0.8306548595428467), ('해달', 0.8267337083816528), ('쵸', 0.8181732296943665), ('키위새', 0.8144807815551758), ('아르카', 0.8133691549301147), ('애기', 0.8121078610420227), ('썸캣', 0.8091222047805786), ('그리스', 0.8085180521011353)] \n",
      "\n",
      "400 [('모찌', 0.9198334813117981), ('파댕', 0.8460279703140259), ('뚱', 0.8400738835334778), ('애기', 0.83408522605896), ('꼬부기', 0.8330129384994507), ('여름', 0.8208409547805786), ('아르카', 0.8183879852294922), ('해달', 0.8182700872421265), ('키위새', 0.8161901235580444), ('납작', 0.8106906414031982)] \n",
      "\n",
      "500 [('모찌', 0.9314740896224976), ('파댕', 0.8742259740829468), ('뚱', 0.8419409990310669), ('멍청새', 0.8363742828369141), ('꼬부기', 0.8345932960510254), ('키위새', 0.828649640083313), ('미니미', 0.824634313583374), ('윈', 0.8195574283599854), ('쵸', 0.815416693687439), ('썸캣', 0.8112021684646606)] \n",
      "\n"
     ]
    },
    {
     "name": "stderr",
     "output_type": "stream",
     "text": [
      "C:\\Users\\vivid\\Anaconda3\\envs\\test3\\lib\\site-packages\\ipykernel_launcher.py:3: DeprecationWarning: Call to deprecated `most_similar` (Method will be removed in 4.0.0, use self.wv.most_similar() instead).\n",
      "  This is separate from the ipykernel package so we can avoid doing imports until\n",
      "C:\\Users\\vivid\\Anaconda3\\envs\\test3\\lib\\site-packages\\ipykernel_launcher.py:4: DeprecationWarning: Call to deprecated `most_similar` (Method will be removed in 4.0.0, use self.wv.most_similar() instead).\n",
      "  after removing the cwd from sys.path.\n",
      "C:\\Users\\vivid\\Anaconda3\\envs\\test3\\lib\\site-packages\\ipykernel_launcher.py:5: DeprecationWarning: Call to deprecated `most_similar` (Method will be removed in 4.0.0, use self.wv.most_similar() instead).\n",
      "  \"\"\"\n",
      "C:\\Users\\vivid\\Anaconda3\\envs\\test3\\lib\\site-packages\\ipykernel_launcher.py:6: DeprecationWarning: Call to deprecated `most_similar` (Method will be removed in 4.0.0, use self.wv.most_similar() instead).\n",
      "  \n",
      "C:\\Users\\vivid\\Anaconda3\\envs\\test3\\lib\\site-packages\\ipykernel_launcher.py:7: DeprecationWarning: Call to deprecated `most_similar` (Method will be removed in 4.0.0, use self.wv.most_similar() instead).\n",
      "  import sys\n"
     ]
    }
   ],
   "source": [
    "word = '인형'\n",
    "\n",
    "print('100', model100.most_similar(positive=[word], topn=10), '\\n')\n",
    "print('200', model200.most_similar(positive=[word], topn=10), '\\n')\n",
    "print('300', model300.most_similar(positive=[word], topn=10), '\\n')\n",
    "print('400', model400.most_similar(positive=[word], topn=10), '\\n')\n",
    "print('500', model500.most_similar(positive=[word], topn=10), '\\n')"
   ]
  },
  {
   "cell_type": "code",
   "execution_count": 29,
   "metadata": {},
   "outputs": [
    {
     "name": "stdout",
     "output_type": "stream",
     "text": [
      "100 [('소지품', 0.910732626914978), ('취약', 0.886414110660553), ('가정', 0.8657493591308594), ('거북목', 0.860795259475708), ('시크', 0.8603942394256592), ('소매', 0.8559674024581909), ('원하다', 0.8529394865036011), ('좌석', 0.8526648283004761), ('Day', 0.8510389924049377), ('갈다', 0.8506798148155212)] \n",
      "\n",
      "200 [('작업복', 0.9330674409866333), ('소지품', 0.9316877126693726), ('우븐백', 0.9282481670379639), ('머', 0.9274355173110962), ('뻔하다', 0.9266765117645264), ('OVE', 0.9261467456817627), ('전문성', 0.920595109462738), ('취약', 0.9187043905258179), ('방화', 0.9149633646011353), ('기쁨', 0.9141157865524292)] \n",
      "\n",
      "300 [('소지품', 0.9441567659378052), ('취약', 0.9162005186080933), ('뜻', 0.9061155915260315), ('가정', 0.9000022411346436), ('감염', 0.8985235691070557), ('플랜비', 0.8977168798446655), ('시크', 0.8974175453186035), ('OVE', 0.8952203392982483), ('뒹굴러', 0.8946357369422913), ('드림캐처', 0.894429624080658)] \n",
      "\n",
      "400 [('소지품', 0.9299434423446655), ('취약', 0.914757251739502), ('기쁨', 0.9126214981079102), ('갈다', 0.9030168652534485), ('시크', 0.902103066444397), ('가정', 0.9009415507316589), ('드림캐처', 0.8964255452156067), ('카페트', 0.8942922353744507), ('헌혈', 0.8933964967727661), ('BACK', 0.8931265473365784)] \n",
      "\n",
      "500 [('소지품', 0.9294896721839905), ('취약', 0.9211089015007019), ('시크', 0.9166688323020935), ('드림캐처', 0.9130474925041199), ('카페트', 0.9084630608558655), ('캐치', 0.9084385633468628), ('기쁨', 0.9081220626831055), ('갈다', 0.907922625541687), ('핫컵', 0.9042737483978271), ('개성', 0.9029343128204346)] \n",
      "\n"
     ]
    },
    {
     "name": "stderr",
     "output_type": "stream",
     "text": [
      "C:\\Users\\vivid\\Anaconda3\\envs\\test3\\lib\\site-packages\\ipykernel_launcher.py:3: DeprecationWarning: Call to deprecated `most_similar` (Method will be removed in 4.0.0, use self.wv.most_similar() instead).\n",
      "  This is separate from the ipykernel package so we can avoid doing imports until\n",
      "C:\\Users\\vivid\\Anaconda3\\envs\\test3\\lib\\site-packages\\ipykernel_launcher.py:4: DeprecationWarning: Call to deprecated `most_similar` (Method will be removed in 4.0.0, use self.wv.most_similar() instead).\n",
      "  after removing the cwd from sys.path.\n",
      "C:\\Users\\vivid\\Anaconda3\\envs\\test3\\lib\\site-packages\\ipykernel_launcher.py:5: DeprecationWarning: Call to deprecated `most_similar` (Method will be removed in 4.0.0, use self.wv.most_similar() instead).\n",
      "  \"\"\"\n",
      "C:\\Users\\vivid\\Anaconda3\\envs\\test3\\lib\\site-packages\\ipykernel_launcher.py:6: DeprecationWarning: Call to deprecated `most_similar` (Method will be removed in 4.0.0, use self.wv.most_similar() instead).\n",
      "  \n",
      "C:\\Users\\vivid\\Anaconda3\\envs\\test3\\lib\\site-packages\\ipykernel_launcher.py:7: DeprecationWarning: Call to deprecated `most_similar` (Method will be removed in 4.0.0, use self.wv.most_similar() instead).\n",
      "  import sys\n"
     ]
    }
   ],
   "source": [
    "word = '휴대폰'\n",
    "\n",
    "print('100', model100.most_similar(positive=[word], topn=10), '\\n')\n",
    "print('200', model200.most_similar(positive=[word], topn=10), '\\n')\n",
    "print('300', model300.most_similar(positive=[word], topn=10), '\\n')\n",
    "print('400', model400.most_similar(positive=[word], topn=10), '\\n')\n",
    "print('500', model500.most_similar(positive=[word], topn=10), '\\n')"
   ]
  },
  {
   "cell_type": "code",
   "execution_count": 30,
   "metadata": {},
   "outputs": [
    {
     "name": "stdout",
     "output_type": "stream",
     "text": [
      "100 [('햇', 0.7147585153579712), ('피플', 0.7137940526008606), ('만지다', 0.7049304246902466), ('계층', 0.6974172592163086), ('버킷', 0.695615291595459), ('리플렉', 0.6945790648460388), ('나파', 0.691982626914978), ('만나다', 0.6878089904785156), ('로린', 0.6846151351928711), ('형광', 0.6841669082641602)] \n",
      "\n",
      "200 [('계층', 0.7545643448829651), ('피플', 0.7508189678192139), ('만지다', 0.7506495714187622), ('로린', 0.7466999888420105), ('가지', 0.7437079548835754), ('슬리브', 0.7363591194152832), ('수달', 0.7355313301086426), ('걸이', 0.7343850135803223), ('꼭', 0.7343466281890869), ('되어다', 0.734234631061554)] \n",
      "\n",
      "300 [('햇', 0.7579118013381958), ('피플', 0.7551511526107788), ('히', 0.7543551325798035), ('만지다', 0.7486154437065125), ('계층', 0.7408149242401123), ('진심', 0.7387919425964355), ('이유', 0.7349725961685181), ('시월', 0.7340692281723022), ('해남', 0.7338570356369019), ('빅사', 0.7317925095558167)] \n",
      "\n",
      "400 [('피플', 0.7602123022079468), ('비니', 0.7537776231765747), ('로린', 0.7470992803573608), ('해남', 0.7443053722381592), ('내내', 0.7442899346351624), ('히', 0.7427505254745483), ('리플렉', 0.7404041290283203), ('다용', 0.7403397560119629), ('플라스틱', 0.7394527792930603), ('수달', 0.7387533187866211)] \n",
      "\n",
      "500 [('계층', 0.7503436207771301), ('만지다', 0.749819278717041), ('피플', 0.7460825443267822), ('로린', 0.743000328540802), ('햇', 0.7363795042037964), ('진심', 0.7357356548309326), ('마스', 0.7322554588317871), ('만나다', 0.726875364780426), ('나파', 0.7225116491317749), ('걸이', 0.7224921584129333)] \n",
      "\n"
     ]
    },
    {
     "name": "stderr",
     "output_type": "stream",
     "text": [
      "C:\\Users\\vivid\\Anaconda3\\envs\\test3\\lib\\site-packages\\ipykernel_launcher.py:3: DeprecationWarning: Call to deprecated `most_similar` (Method will be removed in 4.0.0, use self.wv.most_similar() instead).\n",
      "  This is separate from the ipykernel package so we can avoid doing imports until\n",
      "C:\\Users\\vivid\\Anaconda3\\envs\\test3\\lib\\site-packages\\ipykernel_launcher.py:4: DeprecationWarning: Call to deprecated `most_similar` (Method will be removed in 4.0.0, use self.wv.most_similar() instead).\n",
      "  after removing the cwd from sys.path.\n",
      "C:\\Users\\vivid\\Anaconda3\\envs\\test3\\lib\\site-packages\\ipykernel_launcher.py:5: DeprecationWarning: Call to deprecated `most_similar` (Method will be removed in 4.0.0, use self.wv.most_similar() instead).\n",
      "  \"\"\"\n",
      "C:\\Users\\vivid\\Anaconda3\\envs\\test3\\lib\\site-packages\\ipykernel_launcher.py:6: DeprecationWarning: Call to deprecated `most_similar` (Method will be removed in 4.0.0, use self.wv.most_similar() instead).\n",
      "  \n",
      "C:\\Users\\vivid\\Anaconda3\\envs\\test3\\lib\\site-packages\\ipykernel_launcher.py:7: DeprecationWarning: Call to deprecated `most_similar` (Method will be removed in 4.0.0, use self.wv.most_similar() instead).\n",
      "  import sys\n"
     ]
    }
   ],
   "source": [
    "word = '패션'\n",
    "\n",
    "print('100', model100.most_similar(positive=[word], topn=10), '\\n')\n",
    "print('200', model200.most_similar(positive=[word], topn=10), '\\n')\n",
    "print('300', model300.most_similar(positive=[word], topn=10), '\\n')\n",
    "print('400', model400.most_similar(positive=[word], topn=10), '\\n')\n",
    "print('500', model500.most_similar(positive=[word], topn=10), '\\n')"
   ]
  },
  {
   "cell_type": "code",
   "execution_count": 31,
   "metadata": {},
   "outputs": [
    {
     "name": "stdout",
     "output_type": "stream",
     "text": [
      "100 [('아기자기하다', 0.8278384208679199), ('키링', 0.8239046931266785), ('보이', 0.8155688047409058), ('실수', 0.8049567937850952), ('마스', 0.7943096160888672), ('리다', 0.7910990715026855), ('다이노', 0.7890051603317261), ('웜뱃', 0.7811917066574097), ('폰', 0.7795945405960083), ('톡', 0.7760952711105347)] \n",
      "\n",
      "200 [('키링', 0.8905767798423767), ('색종이', 0.8439270257949829), ('아기자기하다', 0.8428043127059937), ('아기', 0.8378973603248596), ('다이노', 0.8346481919288635), ('캐릭터', 0.8338386416435242), ('SSEOZI', 0.8330862522125244), ('리다', 0.822659969329834), ('보이', 0.8058944940567017), ('엽서', 0.8058769702911377)] \n",
      "\n",
      "300 [('키링', 0.8781734108924866), ('아기자기하다', 0.858012855052948), ('SSEOZI', 0.8547084927558899), ('리다', 0.8487541675567627), ('캐릭터', 0.8441237211227417), ('보이', 0.8373687267303467), ('그', 0.8367915749549866), ('웜뱃', 0.8318004608154297), ('색종이', 0.8314896821975708), ('폰', 0.8311978578567505)] \n",
      "\n",
      "400 [('키링', 0.868082582950592), ('색종이', 0.8338887691497803), ('다이노', 0.8324490189552307), ('아기자기하다', 0.8282811641693115), ('실수', 0.8282720446586609), ('SSEOZI', 0.8142874240875244), ('캐릭터', 0.8142478466033936), ('리다', 0.8118890523910522), ('곤충', 0.808967649936676), ('귀엽다', 0.8082104921340942)] \n",
      "\n",
      "500 [('키링', 0.833154559135437), ('리다', 0.8272030353546143), ('아기자기하다', 0.8255656957626343), ('색종이', 0.8222091197967529), ('사랑스럽다', 0.8198676109313965), ('엽서', 0.8194717168807983), ('다이노', 0.8156168460845947), ('SSEOZI', 0.8140178918838501), ('실수', 0.8093056678771973), ('캐릭터', 0.8072524070739746)] \n",
      "\n"
     ]
    },
    {
     "name": "stderr",
     "output_type": "stream",
     "text": [
      "C:\\Users\\vivid\\Anaconda3\\envs\\test3\\lib\\site-packages\\ipykernel_launcher.py:3: DeprecationWarning: Call to deprecated `most_similar` (Method will be removed in 4.0.0, use self.wv.most_similar() instead).\n",
      "  This is separate from the ipykernel package so we can avoid doing imports until\n",
      "C:\\Users\\vivid\\Anaconda3\\envs\\test3\\lib\\site-packages\\ipykernel_launcher.py:4: DeprecationWarning: Call to deprecated `most_similar` (Method will be removed in 4.0.0, use self.wv.most_similar() instead).\n",
      "  after removing the cwd from sys.path.\n",
      "C:\\Users\\vivid\\Anaconda3\\envs\\test3\\lib\\site-packages\\ipykernel_launcher.py:5: DeprecationWarning: Call to deprecated `most_similar` (Method will be removed in 4.0.0, use self.wv.most_similar() instead).\n",
      "  \"\"\"\n",
      "C:\\Users\\vivid\\Anaconda3\\envs\\test3\\lib\\site-packages\\ipykernel_launcher.py:6: DeprecationWarning: Call to deprecated `most_similar` (Method will be removed in 4.0.0, use self.wv.most_similar() instead).\n",
      "  \n",
      "C:\\Users\\vivid\\Anaconda3\\envs\\test3\\lib\\site-packages\\ipykernel_launcher.py:7: DeprecationWarning: Call to deprecated `most_similar` (Method will be removed in 4.0.0, use self.wv.most_similar() instead).\n",
      "  import sys\n"
     ]
    }
   ],
   "source": [
    "#400, 500 g\n",
    "word = '스티커'\n",
    "\n",
    "print('100', model100.most_similar(positive=[word], topn=10), '\\n')\n",
    "print('200', model200.most_similar(positive=[word], topn=10), '\\n')\n",
    "print('300', model300.most_similar(positive=[word], topn=10), '\\n')\n",
    "print('400', model400.most_similar(positive=[word], topn=10), '\\n')\n",
    "print('500', model500.most_similar(positive=[word], topn=10), '\\n')"
   ]
  },
  {
   "cell_type": "code",
   "execution_count": 34,
   "metadata": {},
   "outputs": [
    {
     "name": "stdout",
     "output_type": "stream",
     "text": [
      "100 [('노트북', 0.9133979082107544), ('아이패드', 0.8506487607955933), ('MOFT', 0.8384630680084229), ('태블릿', 0.8045784831047058), ('간다', 0.7926109433174133), ('캐리', 0.7893328666687012), ('큐티', 0.7871493101119995), ('옆', 0.7641483545303345), ('빵빵', 0.7495397329330444), ('숄더백', 0.7485901713371277)] \n",
      "\n",
      "200 [('노트북', 0.9279799461364746), ('아이패드', 0.8549145460128784), ('MOFT', 0.8290574550628662), ('큐티', 0.8220313787460327), ('간다', 0.7961491942405701), ('캐리', 0.7958136796951294), ('태블릿', 0.7905440330505371), ('옆', 0.7817308306694031), ('진리', 0.7809703350067139), ('단순', 0.770075798034668)] \n",
      "\n",
      "300 [('노트북', 0.9218665957450867), ('아이패드', 0.8724998235702515), ('MOFT', 0.8331388235092163), ('간다', 0.8297525644302368), ('태블릿', 0.8229770660400391), ('큐티', 0.7956921458244324), ('캐리', 0.7930485010147095), ('마우스', 0.7739135026931763), ('옆', 0.7686118483543396), ('진리', 0.7606610059738159)] \n",
      "\n",
      "400 [('노트북', 0.9187275171279907), ('아이패드', 0.8712524175643921), ('큐티', 0.8280319571495056), ('태블릿', 0.8224659562110901), ('간다', 0.8196693658828735), ('MOFT', 0.8118163347244263), ('옆', 0.8067072033882141), ('캐리', 0.8021842241287231), ('진리', 0.8005916476249695), ('빵빵', 0.793890655040741)] \n",
      "\n",
      "500 [('노트북', 0.927030086517334), ('아이패드', 0.8795207738876343), ('MOFT', 0.8454872965812683), ('태블릿', 0.8307815790176392), ('캐리', 0.806597113609314), ('간다', 0.8008426427841187), ('빵빵', 0.7847377061843872), ('큐티', 0.7839647531509399), ('진리', 0.7829469442367554), ('곰돌이', 0.7802596688270569)] \n",
      "\n"
     ]
    },
    {
     "name": "stderr",
     "output_type": "stream",
     "text": [
      "C:\\Users\\vivid\\Anaconda3\\envs\\test3\\lib\\site-packages\\ipykernel_launcher.py:3: DeprecationWarning: Call to deprecated `most_similar` (Method will be removed in 4.0.0, use self.wv.most_similar() instead).\n",
      "  This is separate from the ipykernel package so we can avoid doing imports until\n",
      "C:\\Users\\vivid\\Anaconda3\\envs\\test3\\lib\\site-packages\\ipykernel_launcher.py:4: DeprecationWarning: Call to deprecated `most_similar` (Method will be removed in 4.0.0, use self.wv.most_similar() instead).\n",
      "  after removing the cwd from sys.path.\n",
      "C:\\Users\\vivid\\Anaconda3\\envs\\test3\\lib\\site-packages\\ipykernel_launcher.py:5: DeprecationWarning: Call to deprecated `most_similar` (Method will be removed in 4.0.0, use self.wv.most_similar() instead).\n",
      "  \"\"\"\n",
      "C:\\Users\\vivid\\Anaconda3\\envs\\test3\\lib\\site-packages\\ipykernel_launcher.py:6: DeprecationWarning: Call to deprecated `most_similar` (Method will be removed in 4.0.0, use self.wv.most_similar() instead).\n",
      "  \n",
      "C:\\Users\\vivid\\Anaconda3\\envs\\test3\\lib\\site-packages\\ipykernel_launcher.py:7: DeprecationWarning: Call to deprecated `most_similar` (Method will be removed in 4.0.0, use self.wv.most_similar() instead).\n",
      "  import sys\n"
     ]
    }
   ],
   "source": [
    "#노트북 입력하면 파우치가 1등이었고, 파우치 입력하니 노트북이 1등으로 나옴\n",
    "#size 400 일때 브랜드(고유명사)가 뒤에 위치\n",
    "word = '파우치'\n",
    "\n",
    "print('100', model100.most_similar(positive=[word], topn=10), '\\n')\n",
    "print('200', model200.most_similar(positive=[word], topn=10), '\\n')\n",
    "print('300', model300.most_similar(positive=[word], topn=10), '\\n')\n",
    "print('400', model400.most_similar(positive=[word], topn=10), '\\n')\n",
    "print('500', model500.most_similar(positive=[word], topn=10), '\\n')"
   ]
  },
  {
   "cell_type": "code",
   "execution_count": 36,
   "metadata": {},
   "outputs": [
    {
     "name": "stdout",
     "output_type": "stream",
     "text": [
      "100 [('폴로', 0.8888880610466003), ('울', 0.8862897753715515), ('노블레스', 0.8858201503753662), ('히팅', 0.8697320222854614), ('체스터필드', 0.8696584701538086), ('안감', 0.8653686046600342), ('캐시미어', 0.8629654049873352), ('VIP', 0.8620362281799316), ('제일모직', 0.8585518598556519), ('알파카', 0.8569579720497131)] \n",
      "\n",
      "200 [('울', 0.9103518128395081), ('폴로', 0.904242217540741), ('캐시미어', 0.8909740447998047), ('노블레스', 0.8883533477783203), ('안감', 0.8793904185295105), ('알파카', 0.8698937892913818), ('제일모직', 0.8644344806671143), ('체스터필드', 0.8633843660354614), ('머플러', 0.8630123138427734), ('VIP', 0.858863115310669)] \n",
      "\n",
      "300 [('울', 0.9173105359077454), ('폴로', 0.9148916006088257), ('캐시미어', 0.9045367240905762), ('노블레스', 0.900580108165741), ('안감', 0.8763652443885803), ('알파카', 0.8742599487304688), ('히팅', 0.8701573610305786), ('체스터필드', 0.8693348169326782), ('스웨터', 0.8624379634857178), ('제일모직', 0.86064213514328)] \n",
      "\n",
      "400 [('폴로', 0.9066321849822998), ('캐시미어', 0.8997368812561035), ('울', 0.8979874849319458), ('노블레스', 0.889440655708313), ('안감', 0.8801179528236389), ('체스터필드', 0.8670748472213745), ('VIP', 0.862445592880249), ('제일모직', 0.8622996807098389), ('알파카', 0.8611998558044434), ('메이드', 0.8582902550697327)] \n",
      "\n",
      "500 [('폴로', 0.9034633636474609), ('안감', 0.9014187455177307), ('울', 0.9006397724151611), ('캐시미어', 0.8976552486419678), ('노블레스', 0.8920164704322815), ('히팅', 0.8769689798355103), ('머플러', 0.8756613731384277), ('메이드', 0.8753231763839722), ('체스터필드', 0.8732908964157104), ('VIP', 0.8705408573150635)] \n",
      "\n"
     ]
    },
    {
     "name": "stderr",
     "output_type": "stream",
     "text": [
      "C:\\Users\\vivid\\Anaconda3\\envs\\test3\\lib\\site-packages\\ipykernel_launcher.py:4: DeprecationWarning: Call to deprecated `most_similar` (Method will be removed in 4.0.0, use self.wv.most_similar() instead).\n",
      "  after removing the cwd from sys.path.\n",
      "C:\\Users\\vivid\\Anaconda3\\envs\\test3\\lib\\site-packages\\ipykernel_launcher.py:5: DeprecationWarning: Call to deprecated `most_similar` (Method will be removed in 4.0.0, use self.wv.most_similar() instead).\n",
      "  \"\"\"\n",
      "C:\\Users\\vivid\\Anaconda3\\envs\\test3\\lib\\site-packages\\ipykernel_launcher.py:6: DeprecationWarning: Call to deprecated `most_similar` (Method will be removed in 4.0.0, use self.wv.most_similar() instead).\n",
      "  \n",
      "C:\\Users\\vivid\\Anaconda3\\envs\\test3\\lib\\site-packages\\ipykernel_launcher.py:7: DeprecationWarning: Call to deprecated `most_similar` (Method will be removed in 4.0.0, use self.wv.most_similar() instead).\n",
      "  import sys\n",
      "C:\\Users\\vivid\\Anaconda3\\envs\\test3\\lib\\site-packages\\ipykernel_launcher.py:8: DeprecationWarning: Call to deprecated `most_similar` (Method will be removed in 4.0.0, use self.wv.most_similar() instead).\n",
      "  \n"
     ]
    }
   ],
   "source": [
    "#다 good\n",
    "word = '코트'\n",
    "\n",
    "print('100', model100.most_similar(positive=[word], topn=10), '\\n')\n",
    "print('200', model200.most_similar(positive=[word], topn=10), '\\n')\n",
    "print('300', model300.most_similar(positive=[word], topn=10), '\\n')\n",
    "print('400', model400.most_similar(positive=[word], topn=10), '\\n')\n",
    "print('500', model500.most_similar(positive=[word], topn=10), '\\n')"
   ]
  },
  {
   "cell_type": "code",
   "execution_count": 38,
   "metadata": {},
   "outputs": [
    {
     "name": "stdout",
     "output_type": "stream",
     "text": [
      "100 [('입지', 0.9247409105300903), ('쓱', 0.9136607050895691), ('전투복', 0.8729331493377686), ('룩', 0.8666490316390991), ('큣큣백', 0.8639695644378662), ('하이', 0.8615614771842957), ('슈', 0.8587613105773926), ('미니미니', 0.8580041527748108), ('실물', 0.8574481010437012), ('닝', 0.8572849035263062)] \n",
      "\n",
      "200 [('입지', 0.9249047040939331), ('쓱', 0.9089299440383911), ('팬츠', 0.8850849866867065), ('텐션', 0.8847194314002991), ('뭐', 0.8832124471664429), ('립', 0.8760664463043213), ('전투복', 0.8738424777984619), ('닝', 0.873762845993042), ('몽', 0.8732151389122009), ('큣큣백', 0.8730553984642029)] \n",
      "\n",
      "300 [('입지', 0.9263585805892944), ('팬츠', 0.8960415124893188), ('쓱', 0.8916471004486084), ('전투복', 0.8890587091445923), ('큣큣백', 0.8856212496757507), ('룩', 0.8839372396469116), ('몽', 0.8826010823249817), ('리코', 0.8784621953964233), ('하이', 0.878307580947876), ('미니미니', 0.8749372959136963)] \n",
      "\n",
      "400 [('입지', 0.9249229431152344), ('쓱', 0.9032866954803467), ('전투복', 0.890856146812439), ('큣큣백', 0.8896684646606445), ('닝', 0.8871705532073975), ('팬츠', 0.8832711577415466), ('텐션', 0.8819224834442139), ('편안함', 0.879828691482544), ('리코', 0.8791303634643555), ('땡땡', 0.8778789043426514)] \n",
      "\n",
      "500 [('입지', 0.9151684045791626), ('닝', 0.8860940337181091), ('팬츠', 0.8839417695999146), ('쓱', 0.8838884830474854), ('큣큣백', 0.877223551273346), ('편안함', 0.8766794800758362), ('리코', 0.8761671781539917), ('룩', 0.8758122324943542), ('전투복', 0.8714821338653564), ('하이', 0.8706319332122803)] \n",
      "\n"
     ]
    },
    {
     "name": "stderr",
     "output_type": "stream",
     "text": [
      "C:\\Users\\vivid\\Anaconda3\\envs\\test3\\lib\\site-packages\\ipykernel_launcher.py:3: DeprecationWarning: Call to deprecated `most_similar` (Method will be removed in 4.0.0, use self.wv.most_similar() instead).\n",
      "  This is separate from the ipykernel package so we can avoid doing imports until\n",
      "C:\\Users\\vivid\\Anaconda3\\envs\\test3\\lib\\site-packages\\ipykernel_launcher.py:4: DeprecationWarning: Call to deprecated `most_similar` (Method will be removed in 4.0.0, use self.wv.most_similar() instead).\n",
      "  after removing the cwd from sys.path.\n",
      "C:\\Users\\vivid\\Anaconda3\\envs\\test3\\lib\\site-packages\\ipykernel_launcher.py:5: DeprecationWarning: Call to deprecated `most_similar` (Method will be removed in 4.0.0, use self.wv.most_similar() instead).\n",
      "  \"\"\"\n",
      "C:\\Users\\vivid\\Anaconda3\\envs\\test3\\lib\\site-packages\\ipykernel_launcher.py:6: DeprecationWarning: Call to deprecated `most_similar` (Method will be removed in 4.0.0, use self.wv.most_similar() instead).\n",
      "  \n",
      "C:\\Users\\vivid\\Anaconda3\\envs\\test3\\lib\\site-packages\\ipykernel_launcher.py:7: DeprecationWarning: Call to deprecated `most_similar` (Method will be removed in 4.0.0, use self.wv.most_similar() instead).\n",
      "  import sys\n"
     ]
    }
   ],
   "source": [
    "#다 비슷하고 순서만 다르게 나옴\n",
    "word = '바지'\n",
    "\n",
    "print('100', model100.most_similar(positive=[word], topn=10), '\\n')\n",
    "print('200', model200.most_similar(positive=[word], topn=10), '\\n')\n",
    "print('300', model300.most_similar(positive=[word], topn=10), '\\n')\n",
    "print('400', model400.most_similar(positive=[word], topn=10), '\\n')\n",
    "print('500', model500.most_similar(positive=[word], topn=10), '\\n')"
   ]
  },
  {
   "cell_type": "code",
   "execution_count": 39,
   "metadata": {},
   "outputs": [
    {
     "name": "stdout",
     "output_type": "stream",
     "text": [
      "100 [('황금비율', 0.9189020395278931), ('홀가먼트', 0.917224645614624), ('아이코닉', 0.9050644636154175), ('나일론', 0.8991893529891968), ('야크', 0.8976386189460754), ('캐시', 0.8928992748260498), ('타스마니아', 0.8890661001205444), ('체스터필드', 0.8833130598068237), ('울', 0.8825485706329346), ('캐시미어', 0.8823448419570923)] \n",
      "\n",
      "200 [('홀가먼트', 0.938765287399292), ('야크', 0.9368364214897156), ('황금비율', 0.9274996519088745), ('비싸다', 0.9194127321243286), ('나일론', 0.9153820276260376), ('스웨터', 0.912189245223999), ('VIP', 0.9112058877944946), ('제일모직', 0.9045083522796631), ('울', 0.903960108757019), ('타스마니아', 0.9032343626022339)] \n",
      "\n",
      "300 [('황금비율', 0.9222757816314697), ('홀가먼트', 0.921581506729126), ('나일론', 0.9108598232269287), ('야크', 0.9096784591674805), ('울', 0.9039916396141052), ('비싸다', 0.9006447792053223), ('캐시미어', 0.8983554840087891), ('폴로', 0.8973088264465332), ('나기', 0.8968772888183594), ('스웨터', 0.8967601656913757)] \n",
      "\n",
      "400 [('홀가먼트', 0.9252279996871948), ('황금비율', 0.9248230457305908), ('울', 0.9126050472259521), ('야크', 0.9051698446273804), ('나일론', 0.9015781283378601), ('캐시미어', 0.8997645378112793), ('드롭', 0.899479866027832), ('폴로', 0.8975924253463745), ('나기', 0.8936828374862671), ('타스마니아', 0.8926108479499817)] \n",
      "\n",
      "500 [('황금비율', 0.9294295310974121), ('홀가먼트', 0.915416955947876), ('나일론', 0.9104568958282471), ('아이코닉', 0.9073392152786255), ('야크', 0.9056165218353271), ('캐시미어', 0.9046005010604858), ('드롭', 0.8989846706390381), ('울', 0.8969604969024658), ('페이크', 0.89585280418396), ('나기', 0.8944709300994873)] \n",
      "\n"
     ]
    },
    {
     "name": "stderr",
     "output_type": "stream",
     "text": [
      "C:\\Users\\vivid\\Anaconda3\\envs\\test3\\lib\\site-packages\\ipykernel_launcher.py:3: DeprecationWarning: Call to deprecated `most_similar` (Method will be removed in 4.0.0, use self.wv.most_similar() instead).\n",
      "  This is separate from the ipykernel package so we can avoid doing imports until\n",
      "C:\\Users\\vivid\\Anaconda3\\envs\\test3\\lib\\site-packages\\ipykernel_launcher.py:4: DeprecationWarning: Call to deprecated `most_similar` (Method will be removed in 4.0.0, use self.wv.most_similar() instead).\n",
      "  after removing the cwd from sys.path.\n",
      "C:\\Users\\vivid\\Anaconda3\\envs\\test3\\lib\\site-packages\\ipykernel_launcher.py:5: DeprecationWarning: Call to deprecated `most_similar` (Method will be removed in 4.0.0, use self.wv.most_similar() instead).\n",
      "  \"\"\"\n",
      "C:\\Users\\vivid\\Anaconda3\\envs\\test3\\lib\\site-packages\\ipykernel_launcher.py:6: DeprecationWarning: Call to deprecated `most_similar` (Method will be removed in 4.0.0, use self.wv.most_similar() instead).\n",
      "  \n",
      "C:\\Users\\vivid\\Anaconda3\\envs\\test3\\lib\\site-packages\\ipykernel_launcher.py:7: DeprecationWarning: Call to deprecated `most_similar` (Method will be removed in 4.0.0, use self.wv.most_similar() instead).\n",
      "  import sys\n"
     ]
    }
   ],
   "source": [
    "# 300 g\n",
    "word = '니트'\n",
    "\n",
    "print('100', model100.most_similar(positive=[word], topn=10), '\\n')\n",
    "print('200', model200.most_similar(positive=[word], topn=10), '\\n')\n",
    "print('300', model300.most_similar(positive=[word], topn=10), '\\n')\n",
    "print('400', model400.most_similar(positive=[word], topn=10), '\\n')\n",
    "print('500', model500.most_similar(positive=[word], topn=10), '\\n')"
   ]
  },
  {
   "cell_type": "code",
   "execution_count": 42,
   "metadata": {},
   "outputs": [
    {
     "name": "stdout",
     "output_type": "stream",
     "text": [
      "100 [('펼치다', 0.8797314167022705), ('조이', 0.8767362833023071), ('롤', 0.8237154483795166), ('놀이', 0.8218547701835632), ('지도', 0.8165282011032104), ('애착', 0.8142815828323364), ('A', 0.8090959787368774), ('전등', 0.8020312786102295), ('칙', 0.8011339902877808), ('틴트', 0.8000986576080322)] \n",
      "\n",
      "200 [('펼치다', 0.9085482954978943), ('조이', 0.9015622138977051), ('애착', 0.8612613677978516), ('루트', 0.8514076471328735), ('토스카나', 0.8485875725746155), ('전기차', 0.8467128276824951), ('틈새', 0.8464745879173279), ('뱅크', 0.8462499380111694), ('해외', 0.845268964767456), ('급속', 0.8430584073066711)] \n",
      "\n",
      "300 [('펼치다', 0.9105218648910522), ('조이', 0.9085574150085449), ('놀이', 0.8610248565673828), ('파마', 0.8536926507949829), ('틈새', 0.8528906106948853), ('쑥쑥', 0.8524239659309387), ('칙', 0.8499283790588379), ('애착', 0.848324716091156), ('완구', 0.846977949142456), ('창의력', 0.8446333408355713)] \n",
      "\n",
      "400 [('펼치다', 0.9156115651130676), ('조이', 0.8826082944869995), ('지도', 0.8810505867004395), ('PC', 0.8318511843681335), ('애착', 0.8295353651046753), ('칼테', 0.8287348747253418), ('차고', 0.8260236978530884), ('놀이', 0.8242082595825195), ('루트', 0.8239666223526001), ('펜홀더', 0.8188940286636353)] \n",
      "\n",
      "500 [('펼치다', 0.9284576177597046), ('조이', 0.9150290489196777), ('놀이', 0.8607413172721863), ('애착', 0.8510515689849854), ('완구', 0.8479396104812622), ('틈새', 0.8470467925071716), ('보따리', 0.8342052102088928), ('토스카나', 0.8275892734527588), ('뱅크', 0.8231515288352966), ('루트', 0.8192527294158936)] \n",
      "\n"
     ]
    },
    {
     "name": "stderr",
     "output_type": "stream",
     "text": [
      "C:\\Users\\vivid\\Anaconda3\\envs\\test3\\lib\\site-packages\\ipykernel_launcher.py:3: DeprecationWarning: Call to deprecated `most_similar` (Method will be removed in 4.0.0, use self.wv.most_similar() instead).\n",
      "  This is separate from the ipykernel package so we can avoid doing imports until\n",
      "C:\\Users\\vivid\\Anaconda3\\envs\\test3\\lib\\site-packages\\ipykernel_launcher.py:4: DeprecationWarning: Call to deprecated `most_similar` (Method will be removed in 4.0.0, use self.wv.most_similar() instead).\n",
      "  after removing the cwd from sys.path.\n",
      "C:\\Users\\vivid\\Anaconda3\\envs\\test3\\lib\\site-packages\\ipykernel_launcher.py:5: DeprecationWarning: Call to deprecated `most_similar` (Method will be removed in 4.0.0, use self.wv.most_similar() instead).\n",
      "  \"\"\"\n",
      "C:\\Users\\vivid\\Anaconda3\\envs\\test3\\lib\\site-packages\\ipykernel_launcher.py:6: DeprecationWarning: Call to deprecated `most_similar` (Method will be removed in 4.0.0, use self.wv.most_similar() instead).\n",
      "  \n",
      "C:\\Users\\vivid\\Anaconda3\\envs\\test3\\lib\\site-packages\\ipykernel_launcher.py:7: DeprecationWarning: Call to deprecated `most_similar` (Method will be removed in 4.0.0, use self.wv.most_similar() instead).\n",
      "  import sys\n"
     ]
    }
   ],
   "source": [
    "# 300, 400, 500 g\n",
    "word = '장난감'\n",
    "\n",
    "print('100', model100.most_similar(positive=[word], topn=10), '\\n')\n",
    "print('200', model200.most_similar(positive=[word], topn=10), '\\n')\n",
    "print('300', model300.most_similar(positive=[word], topn=10), '\\n')\n",
    "print('400', model400.most_similar(positive=[word], topn=10), '\\n')\n",
    "print('500', model500.most_similar(positive=[word], topn=10), '\\n')"
   ]
  },
  {
   "cell_type": "code",
   "execution_count": null,
   "metadata": {},
   "outputs": [],
   "source": []
  }
 ],
 "metadata": {
  "kernelspec": {
   "display_name": "Python 3",
   "language": "python",
   "name": "python3"
  },
  "language_info": {
   "codemirror_mode": {
    "name": "ipython",
    "version": 3
   },
   "file_extension": ".py",
   "mimetype": "text/x-python",
   "name": "python",
   "nbconvert_exporter": "python",
   "pygments_lexer": "ipython3",
   "version": "3.7.9"
  }
 },
 "nbformat": 4,
 "nbformat_minor": 4
}
